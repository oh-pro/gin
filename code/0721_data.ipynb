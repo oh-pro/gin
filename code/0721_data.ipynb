{
 "cells": [
  {
   "cell_type": "code",
   "execution_count": 48,
   "metadata": {},
   "outputs": [],
   "source": [
    "import os\n",
    "import pandas as pd\n",
    "import numpy as np\n",
    "from haversine import haversine as hs\n",
    "import missingno\n",
    "\n",
    "import matplotlib.pyplot as mlp\n",
    "%matplotlib inline\n",
    "\n",
    "import seaborn as sns"
   ]
  },
  {
   "cell_type": "code",
   "execution_count": 2,
   "metadata": {},
   "outputs": [],
   "source": [
    "col_list = [\"pk_apt_detail\", \"supply_extent\"]\n",
    "df_apt_detail = pd.read_csv(\"./data_/apt_detail.csv\", usecols=col_list, sep=';')"
   ]
  },
  {
   "cell_type": "code",
   "execution_count": 3,
   "metadata": {},
   "outputs": [],
   "source": [
    "df_apt_detail.pk_apt_detail = df_apt_detail.pk_apt_detail.astype(str)\n",
    "df_apt_detail.supply_extent = df_apt_detail.supply_extent.astype(np.float)"
   ]
  },
  {
   "cell_type": "code",
   "execution_count": 4,
   "metadata": {},
   "outputs": [],
   "source": [
    "data = {}\n",
    "for file in os.listdir('./data_'):\n",
    "    if '.csv' in file and 'apt_detail' not in file:\n",
    "        fn = file.replace('.csv','')\n",
    "        data[fn] = pd.read_csv('./data_/'+file)"
   ]
  },
  {
   "cell_type": "code",
   "execution_count": 5,
   "metadata": {},
   "outputs": [
    {
     "name": "stdout",
     "output_type": "stream",
     "text": [
      "======= busan_eschool ======\n",
      "<class 'pandas.core.frame.DataFrame'>\n",
      "RangeIndex: 305 entries, 0 to 304\n",
      "Data columns (total 9 columns):\n",
      " #   Column     Non-Null Count  Dtype  \n",
      "---  ------     --------------  -----  \n",
      " 0   연번         305 non-null    int64  \n",
      " 1   구분         305 non-null    object \n",
      " 2   관할지원청      305 non-null    object \n",
      " 3   기관명        305 non-null    object \n",
      " 4   주소         305 non-null    object \n",
      " 5   Latitude   305 non-null    float64\n",
      " 6   Longitude  305 non-null    float64\n",
      " 7   전화         305 non-null    object \n",
      " 8   홈페이지       305 non-null    object \n",
      "dtypes: float64(2), int64(1), object(6)\n",
      "memory usage: 21.6+ KB\n",
      "None\n",
      "\n",
      "\n",
      "======= busan_subway ======\n",
      "<class 'pandas.core.frame.DataFrame'>\n",
      "RangeIndex: 114 entries, 0 to 113\n",
      "Data columns (total 15 columns):\n",
      " #   Column      Non-Null Count  Dtype  \n",
      "---  ------      --------------  -----  \n",
      " 0   역코드         114 non-null    int64  \n",
      " 1   역명          114 non-null    object \n",
      " 2   영문          114 non-null    object \n",
      " 3   전화번호        114 non-null    object \n",
      " 4   역주소         114 non-null    object \n",
      " 5   Latitude    114 non-null    float64\n",
      " 6   Longitude   114 non-null    float64\n",
      " 7   환승주차장       33 non-null     object \n",
      " 8   자전거보관소      111 non-null    object \n",
      " 9   물품보관함       71 non-null     object \n",
      " 10  자동사진기       24 non-null     object \n",
      " 11  도시철도경찰대     7 non-null      object \n",
      " 12  섬식형(아일랜드형)  14 non-null     object \n",
      " 13  엘리베이터       113 non-null    object \n",
      " 14  역명및 지명유래    114 non-null    object \n",
      "dtypes: float64(2), int64(1), object(12)\n",
      "memory usage: 13.5+ KB\n",
      "None\n",
      "\n",
      "\n",
      "======= apt_trade ======\n",
      "<class 'pandas.core.frame.DataFrame'>\n",
      "RangeIndex: 248503 entries, 0 to 248502\n",
      "Data columns (total 25 columns):\n",
      " #   Column          Non-Null Count   Dtype  \n",
      "---  ------          --------------   -----  \n",
      " 0   pk_apt_trade    248503 non-null  int64  \n",
      " 1   pk_apt_master   248503 non-null  int64  \n",
      " 2   sigungu_cd      248503 non-null  int64  \n",
      " 3   dong_cd         248503 non-null  int64  \n",
      " 4   deal_ymd        248503 non-null  int64  \n",
      " 5   gen_dt          248503 non-null  int64  \n",
      " 6   dong            248503 non-null  object \n",
      " 7   bldg_nm         248503 non-null  object \n",
      " 8   bun             248503 non-null  object \n",
      " 9   ji              118302 non-null  float64\n",
      " 10  private_extent  248503 non-null  float64\n",
      " 11  year            248503 non-null  int64  \n",
      " 12  mon             248503 non-null  int64  \n",
      " 13  day             248503 non-null  int64  \n",
      " 14  real_day        248503 non-null  int64  \n",
      " 15  price           248503 non-null  int64  \n",
      " 16  floor           248503 non-null  int64  \n",
      " 17  inst_dt         248503 non-null  object \n",
      " 18  totcnt          248503 non-null  int64  \n",
      " 19  treat_yn        248503 non-null  object \n",
      " 20  except_yn       248503 non-null  object \n",
      " 21  new_yn          248503 non-null  object \n",
      " 22  jibun           248503 non-null  object \n",
      " 23  volume_yn       248503 non-null  object \n",
      " 24  pk_apt_detail   248503 non-null  int64  \n",
      "dtypes: float64(2), int64(14), object(9)\n",
      "memory usage: 47.4+ MB\n",
      "None\n",
      "\n",
      "\n",
      "======= apt_master ======\n",
      "<class 'pandas.core.frame.DataFrame'>\n",
      "RangeIndex: 2770 entries, 0 to 2769\n",
      "Data columns (total 43 columns):\n",
      " #   Column               Non-Null Count  Dtype  \n",
      "---  ------               --------------  -----  \n",
      " 0   pk_apt_master        2770 non-null   int64  \n",
      " 1   build_reg_cd         2182 non-null   object \n",
      " 2   bldg_nm              2625 non-null   object \n",
      " 3   edit_bldg_nm         2770 non-null   object \n",
      " 4   sigungu_cd           2770 non-null   int64  \n",
      " 5   dong_cd              2770 non-null   int64  \n",
      " 6   bun                  2767 non-null   float64\n",
      " 7   ji                   2749 non-null   float64\n",
      " 8   rodo_cd              2358 non-null   float64\n",
      " 9   main_cd              2366 non-null   object \n",
      " 10  apt_dong_nm          2366 non-null   object \n",
      " 11  address              2770 non-null   object \n",
      " 12  address_doro         2222 non-null   object \n",
      " 13  total_house_cnt      2770 non-null   int64  \n",
      " 14  total_dong_cnt       2770 non-null   int64  \n",
      " 15  land_extent          2108 non-null   float64\n",
      " 16  build_extent         2340 non-null   float64\n",
      " 17  total_floor_area     2348 non-null   float64\n",
      " 18  cal_floor_area_rate  2337 non-null   float64\n",
      " 19  floor_area_rate      2387 non-null   float64\n",
      " 20  bldg_coverage_rate   2390 non-null   float64\n",
      " 21  max_jisang_floor     2770 non-null   int64  \n",
      " 22  min_jisang_floor     2624 non-null   float64\n",
      " 23  total_jucha          2769 non-null   float64\n",
      " 24  total_jucha_rate     2769 non-null   float64\n",
      " 25  heat_method          2614 non-null   object \n",
      " 26  heat_fuel            2598 non-null   object \n",
      " 27  developer            2569 non-null   object \n",
      " 28  lat                  2770 non-null   float64\n",
      " 29  lon                  2770 non-null   float64\n",
      " 30  inst_dt              2770 non-null   object \n",
      " 31  bldg_cd              2770 non-null   int64  \n",
      " 32  ori_bldg_cd          2770 non-null   int64  \n",
      " 33  bldg_cd_yn           17 non-null     float64\n",
      " 34  gen_dt               2770 non-null   float64\n",
      " 35  gen_dt_yn            2770 non-null   object \n",
      " 36  expire_dt            2770 non-null   float64\n",
      " 37  add_cl               2366 non-null   object \n",
      " 38  dupchk_yn            2770 non-null   object \n",
      " 39  is_new               2770 non-null   object \n",
      " 40  apt_mapper           2770 non-null   object \n",
      " 41  gin_yn               2379 non-null   object \n",
      " 42  gov_school_cd        2629 non-null   object \n",
      "dtypes: float64(17), int64(8), object(18)\n",
      "memory usage: 930.7+ KB\n",
      "None\n",
      "\n",
      "\n"
     ]
    }
   ],
   "source": [
    "for key in data.keys():\n",
    "    print('======= ' + key + ' ======')\n",
    "    print(data[key].info())\n",
    "    print('\\n')"
   ]
  },
  {
   "cell_type": "markdown",
   "metadata": {},
   "source": [
    "- '학교이름','학교경도','학교위도','역이름','역경도','역위도' 데이터 프레임 '환경'생성"
   ]
  },
  {
   "cell_type": "code",
   "execution_count": 6,
   "metadata": {},
   "outputs": [],
   "source": [
    "data['busan_eschool']['lat_lon'] = list(zip(data['busan_eschool']['Latitude'],data['busan_eschool']['Longitude']))\n",
    "data['busan_eschool'] = data['busan_eschool'][['기관명', 'lat_lon']]\n",
    "data['busan_eschool'] = data['busan_eschool'].rename(columns = {'기관명':'학교명'})"
   ]
  },
  {
   "cell_type": "code",
   "execution_count": 7,
   "metadata": {},
   "outputs": [
    {
     "data": {
      "text/html": [
       "<div>\n",
       "<style scoped>\n",
       "    .dataframe tbody tr th:only-of-type {\n",
       "        vertical-align: middle;\n",
       "    }\n",
       "\n",
       "    .dataframe tbody tr th {\n",
       "        vertical-align: top;\n",
       "    }\n",
       "\n",
       "    .dataframe thead th {\n",
       "        text-align: right;\n",
       "    }\n",
       "</style>\n",
       "<table border=\"1\" class=\"dataframe\">\n",
       "  <thead>\n",
       "    <tr style=\"text-align: right;\">\n",
       "      <th></th>\n",
       "      <th>학교명</th>\n",
       "      <th>lat_lon</th>\n",
       "    </tr>\n",
       "  </thead>\n",
       "  <tbody>\n",
       "    <tr>\n",
       "      <th>0</th>\n",
       "      <td>감정초등학교</td>\n",
       "      <td>(35.096870200000005, 129.0110047)</td>\n",
       "    </tr>\n",
       "    <tr>\n",
       "      <th>1</th>\n",
       "      <td>감천초등학교</td>\n",
       "      <td>(35.08309620000001, 129.0076053)</td>\n",
       "    </tr>\n",
       "    <tr>\n",
       "      <th>2</th>\n",
       "      <td>광일초등학교</td>\n",
       "      <td>(35.10372520000001, 129.02986090000002)</td>\n",
       "    </tr>\n",
       "    <tr>\n",
       "      <th>3</th>\n",
       "      <td>괴정초등학교</td>\n",
       "      <td>(35.1037635, 128.9998745)</td>\n",
       "    </tr>\n",
       "    <tr>\n",
       "      <th>4</th>\n",
       "      <td>구덕초등학교</td>\n",
       "      <td>(35.1202619, 129.0123589)</td>\n",
       "    </tr>\n",
       "  </tbody>\n",
       "</table>\n",
       "</div>"
      ],
      "text/plain": [
       "      학교명                                  lat_lon\n",
       "0  감정초등학교        (35.096870200000005, 129.0110047)\n",
       "1  감천초등학교         (35.08309620000001, 129.0076053)\n",
       "2  광일초등학교  (35.10372520000001, 129.02986090000002)\n",
       "3  괴정초등학교                (35.1037635, 128.9998745)\n",
       "4  구덕초등학교                (35.1202619, 129.0123589)"
      ]
     },
     "execution_count": 7,
     "metadata": {},
     "output_type": "execute_result"
    }
   ],
   "source": [
    "data['busan_eschool'].head()"
   ]
  },
  {
   "cell_type": "code",
   "execution_count": 8,
   "metadata": {},
   "outputs": [],
   "source": [
    "data['busan_subway']['lat_lon'] = list(zip(data['busan_subway']['Latitude'],data['busan_subway']['Longitude']))\n",
    "data['busan_subway'] = data['busan_subway'][['역명', 'lat_lon']]"
   ]
  },
  {
   "cell_type": "code",
   "execution_count": 9,
   "metadata": {},
   "outputs": [
    {
     "data": {
      "text/html": [
       "<div>\n",
       "<style scoped>\n",
       "    .dataframe tbody tr th:only-of-type {\n",
       "        vertical-align: middle;\n",
       "    }\n",
       "\n",
       "    .dataframe tbody tr th {\n",
       "        vertical-align: top;\n",
       "    }\n",
       "\n",
       "    .dataframe thead th {\n",
       "        text-align: right;\n",
       "    }\n",
       "</style>\n",
       "<table border=\"1\" class=\"dataframe\">\n",
       "  <thead>\n",
       "    <tr style=\"text-align: right;\">\n",
       "      <th></th>\n",
       "      <th>역명</th>\n",
       "      <th>lat_lon</th>\n",
       "    </tr>\n",
       "  </thead>\n",
       "  <tbody>\n",
       "    <tr>\n",
       "      <th>0</th>\n",
       "      <td>다대포해수욕장역</td>\n",
       "      <td>(35.074697799999996, 128.97118840000002)</td>\n",
       "    </tr>\n",
       "    <tr>\n",
       "      <th>1</th>\n",
       "      <td>다대포항역</td>\n",
       "      <td>(35.074697799999996, 128.97118840000002)</td>\n",
       "    </tr>\n",
       "    <tr>\n",
       "      <th>2</th>\n",
       "      <td>낫개역</td>\n",
       "      <td>(35.074697799999996, 128.97118840000002)</td>\n",
       "    </tr>\n",
       "    <tr>\n",
       "      <th>3</th>\n",
       "      <td>신장림역</td>\n",
       "      <td>(35.074697799999996, 128.97118840000002)</td>\n",
       "    </tr>\n",
       "    <tr>\n",
       "      <th>4</th>\n",
       "      <td>장림역</td>\n",
       "      <td>(35.074697799999996, 128.97118840000002)</td>\n",
       "    </tr>\n",
       "  </tbody>\n",
       "</table>\n",
       "</div>"
      ],
      "text/plain": [
       "         역명                                   lat_lon\n",
       "0  다대포해수욕장역  (35.074697799999996, 128.97118840000002)\n",
       "1     다대포항역  (35.074697799999996, 128.97118840000002)\n",
       "2       낫개역  (35.074697799999996, 128.97118840000002)\n",
       "3      신장림역  (35.074697799999996, 128.97118840000002)\n",
       "4       장림역  (35.074697799999996, 128.97118840000002)"
      ]
     },
     "execution_count": 9,
     "metadata": {},
     "output_type": "execute_result"
    }
   ],
   "source": [
    "data['busan_subway'].head()"
   ]
  },
  {
   "cell_type": "markdown",
   "metadata": {},
   "source": [
    "- 'apt_master' 데이터 프레임에서 필요한 열만 추출"
   ]
  },
  {
   "cell_type": "code",
   "execution_count": 10,
   "metadata": {},
   "outputs": [
    {
     "data": {
      "text/html": [
       "<div>\n",
       "<style scoped>\n",
       "    .dataframe tbody tr th:only-of-type {\n",
       "        vertical-align: middle;\n",
       "    }\n",
       "\n",
       "    .dataframe tbody tr th {\n",
       "        vertical-align: top;\n",
       "    }\n",
       "\n",
       "    .dataframe thead th {\n",
       "        text-align: right;\n",
       "    }\n",
       "</style>\n",
       "<table border=\"1\" class=\"dataframe\">\n",
       "  <thead>\n",
       "    <tr style=\"text-align: right;\">\n",
       "      <th></th>\n",
       "      <th>pk_apt_master</th>\n",
       "      <th>total_house_cnt</th>\n",
       "      <th>total_dong_cnt</th>\n",
       "      <th>max_jisang_floor</th>\n",
       "      <th>min_jisang_floor</th>\n",
       "      <th>total_jucha_rate</th>\n",
       "      <th>heat_method</th>\n",
       "      <th>lat_lon</th>\n",
       "      <th>bldg_cd</th>\n",
       "      <th>gen_dt</th>\n",
       "    </tr>\n",
       "  </thead>\n",
       "  <tbody>\n",
       "    <tr>\n",
       "      <th>0</th>\n",
       "      <td>24</td>\n",
       "      <td>450</td>\n",
       "      <td>3</td>\n",
       "      <td>20</td>\n",
       "      <td>1.0</td>\n",
       "      <td>1.04</td>\n",
       "      <td>개별난방</td>\n",
       "      <td>(35.160214286423155, 129.02247008783408)</td>\n",
       "      <td>1</td>\n",
       "      <td>1992.12</td>\n",
       "    </tr>\n",
       "    <tr>\n",
       "      <th>1</th>\n",
       "      <td>45</td>\n",
       "      <td>788</td>\n",
       "      <td>13</td>\n",
       "      <td>25</td>\n",
       "      <td>18.0</td>\n",
       "      <td>1.06</td>\n",
       "      <td>지역난방</td>\n",
       "      <td>(35.17814223752016, 129.18080133654178)</td>\n",
       "      <td>1</td>\n",
       "      <td>1998.11</td>\n",
       "    </tr>\n",
       "    <tr>\n",
       "      <th>2</th>\n",
       "      <td>49</td>\n",
       "      <td>938</td>\n",
       "      <td>12</td>\n",
       "      <td>25</td>\n",
       "      <td>8.0</td>\n",
       "      <td>1.00</td>\n",
       "      <td>지역난방</td>\n",
       "      <td>(35.17511010074104, 129.17683514653672)</td>\n",
       "      <td>1</td>\n",
       "      <td>1997.09</td>\n",
       "    </tr>\n",
       "    <tr>\n",
       "      <th>3</th>\n",
       "      <td>59</td>\n",
       "      <td>655</td>\n",
       "      <td>11</td>\n",
       "      <td>24</td>\n",
       "      <td>16.0</td>\n",
       "      <td>1.00</td>\n",
       "      <td>지역난방</td>\n",
       "      <td>(35.177678699197266, 129.16727161464672)</td>\n",
       "      <td>1</td>\n",
       "      <td>1997.05</td>\n",
       "    </tr>\n",
       "    <tr>\n",
       "      <th>4</th>\n",
       "      <td>69</td>\n",
       "      <td>1358</td>\n",
       "      <td>19</td>\n",
       "      <td>24</td>\n",
       "      <td>19.0</td>\n",
       "      <td>1.13</td>\n",
       "      <td>지역난방</td>\n",
       "      <td>(35.16660212799623, 129.18570786561207)</td>\n",
       "      <td>1</td>\n",
       "      <td>1996.11</td>\n",
       "    </tr>\n",
       "  </tbody>\n",
       "</table>\n",
       "</div>"
      ],
      "text/plain": [
       "   pk_apt_master  total_house_cnt  total_dong_cnt  max_jisang_floor  \\\n",
       "0             24              450               3                20   \n",
       "1             45              788              13                25   \n",
       "2             49              938              12                25   \n",
       "3             59              655              11                24   \n",
       "4             69             1358              19                24   \n",
       "\n",
       "   min_jisang_floor  total_jucha_rate heat_method  \\\n",
       "0               1.0              1.04        개별난방   \n",
       "1              18.0              1.06        지역난방   \n",
       "2               8.0              1.00        지역난방   \n",
       "3              16.0              1.00        지역난방   \n",
       "4              19.0              1.13        지역난방   \n",
       "\n",
       "                                    lat_lon  bldg_cd   gen_dt  \n",
       "0  (35.160214286423155, 129.02247008783408)        1  1992.12  \n",
       "1   (35.17814223752016, 129.18080133654178)        1  1998.11  \n",
       "2   (35.17511010074104, 129.17683514653672)        1  1997.09  \n",
       "3  (35.177678699197266, 129.16727161464672)        1  1997.05  \n",
       "4   (35.16660212799623, 129.18570786561207)        1  1996.11  "
      ]
     },
     "execution_count": 10,
     "metadata": {},
     "output_type": "execute_result"
    }
   ],
   "source": [
    "data['apt_master']['lat_lon'] = list(zip(data['apt_master']['lat'],data['apt_master']['lon']))\n",
    "data['apt_master'] = data['apt_master'][['pk_apt_master','total_house_cnt','total_dong_cnt','max_jisang_floor','min_jisang_floor','total_jucha_rate','heat_method','lat_lon','bldg_cd','gen_dt']]\n",
    "data['apt_master'].head()"
   ]
  },
  {
   "cell_type": "code",
   "execution_count": 11,
   "metadata": {},
   "outputs": [],
   "source": [
    "def min_eschool(lat_lon):\n",
    "    m = np.inf\n",
    "    nm = ''\n",
    "    n = len(data['busan_eschool'])\n",
    "    for i in range(n):\n",
    "        d = hs(lat_lon, data['busan_eschool'].iloc[i,1])\n",
    "        if d < m:\n",
    "            m = d\n",
    "            nm = data['busan_eschool'].iloc[i,0]\n",
    "    return nm, d "
   ]
  },
  {
   "cell_type": "code",
   "execution_count": 12,
   "metadata": {},
   "outputs": [
    {
     "name": "stdout",
     "output_type": "stream",
     "text": [
      "CPU times: user 10.5 s, sys: 51.8 ms, total: 10.5 s\n",
      "Wall time: 11 s\n"
     ]
    }
   ],
   "source": [
    "%time data['apt_master']['min_eschool'] = data['apt_master']['lat_lon'].apply(min_eschool)"
   ]
  },
  {
   "cell_type": "code",
   "execution_count": 13,
   "metadata": {},
   "outputs": [],
   "source": [
    "def min_subway(lat_lon):\n",
    "    m = np.inf\n",
    "    nm = ''\n",
    "    n = len(data['busan_subway'])\n",
    "    for i in range(n):\n",
    "        d = hs(lat_lon, data['busan_subway'].iloc[i,1])\n",
    "        if d < m:\n",
    "            m = d\n",
    "            nm = data['busan_subway'].iloc[i,0]\n",
    "    return nm, d "
   ]
  },
  {
   "cell_type": "code",
   "execution_count": 14,
   "metadata": {},
   "outputs": [
    {
     "name": "stdout",
     "output_type": "stream",
     "text": [
      "CPU times: user 4.08 s, sys: 19 ms, total: 4.1 s\n",
      "Wall time: 4.22 s\n"
     ]
    }
   ],
   "source": [
    "%time data['apt_master']['min_subway'] = data['apt_master']['lat_lon'].apply(min_subway)"
   ]
  },
  {
   "cell_type": "code",
   "execution_count": 15,
   "metadata": {},
   "outputs": [
    {
     "name": "stdout",
     "output_type": "stream",
     "text": [
      "<class 'pandas.core.frame.DataFrame'>\n",
      "RangeIndex: 2770 entries, 0 to 2769\n",
      "Data columns (total 12 columns):\n",
      " #   Column            Non-Null Count  Dtype  \n",
      "---  ------            --------------  -----  \n",
      " 0   pk_apt_master     2770 non-null   int64  \n",
      " 1   total_house_cnt   2770 non-null   int64  \n",
      " 2   total_dong_cnt    2770 non-null   int64  \n",
      " 3   max_jisang_floor  2770 non-null   int64  \n",
      " 4   min_jisang_floor  2624 non-null   float64\n",
      " 5   total_jucha_rate  2769 non-null   float64\n",
      " 6   heat_method       2614 non-null   object \n",
      " 7   lat_lon           2770 non-null   object \n",
      " 8   bldg_cd           2770 non-null   int64  \n",
      " 9   gen_dt            2770 non-null   float64\n",
      " 10  min_eschool       2770 non-null   object \n",
      " 11  min_subway        2770 non-null   object \n",
      "dtypes: float64(3), int64(5), object(4)\n",
      "memory usage: 259.8+ KB\n"
     ]
    }
   ],
   "source": [
    "data['apt_master'].info()"
   ]
  },
  {
   "cell_type": "code",
   "execution_count": 16,
   "metadata": {},
   "outputs": [],
   "source": [
    "data['apt_master'] = pd.merge(data['apt_master'], \n",
    "              pd.DataFrame(data['apt_master']['min_eschool'].tolist(), \n",
    "                           columns=['nm_sch','dist_sch'],\n",
    "                           index = data['apt_master'].index),\n",
    "              left_index=True, \n",
    "              right_index=True,\n",
    "              how='left')\n",
    "data['apt_master'] = pd.merge(data['apt_master'], \n",
    "              pd.DataFrame(data['apt_master']['min_subway'].tolist(), \n",
    "                           columns=['nm_sub','dist_sub'],\n",
    "                           index = data['apt_master'].index),\n",
    "              left_index=True, \n",
    "              right_index=True,\n",
    "              how='left')"
   ]
  },
  {
   "cell_type": "code",
   "execution_count": 17,
   "metadata": {},
   "outputs": [],
   "source": [
    "data['apt_master'] = data['apt_master'][['pk_apt_master', 'total_house_cnt', 'total_dong_cnt', 'max_jisang_floor', \n",
    "                                         'min_jisang_floor', 'total_jucha_rate', 'heat_method','bldg_cd', 'gen_dt',\n",
    "                                         'nm_sch', 'dist_sch', 'nm_sub', 'dist_sub']]"
   ]
  },
  {
   "cell_type": "code",
   "execution_count": 18,
   "metadata": {},
   "outputs": [
    {
     "data": {
      "text/html": [
       "<div>\n",
       "<style scoped>\n",
       "    .dataframe tbody tr th:only-of-type {\n",
       "        vertical-align: middle;\n",
       "    }\n",
       "\n",
       "    .dataframe tbody tr th {\n",
       "        vertical-align: top;\n",
       "    }\n",
       "\n",
       "    .dataframe thead th {\n",
       "        text-align: right;\n",
       "    }\n",
       "</style>\n",
       "<table border=\"1\" class=\"dataframe\">\n",
       "  <thead>\n",
       "    <tr style=\"text-align: right;\">\n",
       "      <th></th>\n",
       "      <th>pk_apt_master</th>\n",
       "      <th>total_house_cnt</th>\n",
       "      <th>total_dong_cnt</th>\n",
       "      <th>max_jisang_floor</th>\n",
       "      <th>min_jisang_floor</th>\n",
       "      <th>total_jucha_rate</th>\n",
       "      <th>heat_method</th>\n",
       "      <th>bldg_cd</th>\n",
       "      <th>gen_dt</th>\n",
       "      <th>nm_sch</th>\n",
       "      <th>dist_sch</th>\n",
       "      <th>nm_sub</th>\n",
       "      <th>dist_sub</th>\n",
       "    </tr>\n",
       "  </thead>\n",
       "  <tbody>\n",
       "    <tr>\n",
       "      <th>0</th>\n",
       "      <td>24</td>\n",
       "      <td>450</td>\n",
       "      <td>3</td>\n",
       "      <td>20</td>\n",
       "      <td>1.0</td>\n",
       "      <td>1.04</td>\n",
       "      <td>개별난방</td>\n",
       "      <td>1</td>\n",
       "      <td>1992.12</td>\n",
       "      <td>개화초등학교</td>\n",
       "      <td>7.662802</td>\n",
       "      <td>동의대</td>\n",
       "      <td>16.087784</td>\n",
       "    </tr>\n",
       "    <tr>\n",
       "      <th>1</th>\n",
       "      <td>45</td>\n",
       "      <td>788</td>\n",
       "      <td>13</td>\n",
       "      <td>25</td>\n",
       "      <td>18.0</td>\n",
       "      <td>1.06</td>\n",
       "      <td>지역난방</td>\n",
       "      <td>1</td>\n",
       "      <td>1998.11</td>\n",
       "      <td>부흥초등학교</td>\n",
       "      <td>7.092371</td>\n",
       "      <td>장산</td>\n",
       "      <td>6.653143</td>\n",
       "    </tr>\n",
       "    <tr>\n",
       "      <th>2</th>\n",
       "      <td>49</td>\n",
       "      <td>938</td>\n",
       "      <td>12</td>\n",
       "      <td>25</td>\n",
       "      <td>8.0</td>\n",
       "      <td>1.00</td>\n",
       "      <td>지역난방</td>\n",
       "      <td>1</td>\n",
       "      <td>1997.09</td>\n",
       "      <td>부흥초등학교</td>\n",
       "      <td>6.647549</td>\n",
       "      <td>장산</td>\n",
       "      <td>6.956514</td>\n",
       "    </tr>\n",
       "    <tr>\n",
       "      <th>3</th>\n",
       "      <td>59</td>\n",
       "      <td>655</td>\n",
       "      <td>11</td>\n",
       "      <td>24</td>\n",
       "      <td>16.0</td>\n",
       "      <td>1.00</td>\n",
       "      <td>지역난방</td>\n",
       "      <td>1</td>\n",
       "      <td>1997.05</td>\n",
       "      <td>양운초등학교</td>\n",
       "      <td>5.918199</td>\n",
       "      <td>장산</td>\n",
       "      <td>6.672089</td>\n",
       "    </tr>\n",
       "    <tr>\n",
       "      <th>4</th>\n",
       "      <td>69</td>\n",
       "      <td>1358</td>\n",
       "      <td>19</td>\n",
       "      <td>24</td>\n",
       "      <td>19.0</td>\n",
       "      <td>1.13</td>\n",
       "      <td>지역난방</td>\n",
       "      <td>1</td>\n",
       "      <td>1996.11</td>\n",
       "      <td>좌산초등학교</td>\n",
       "      <td>7.241903</td>\n",
       "      <td>중동</td>\n",
       "      <td>7.985490</td>\n",
       "    </tr>\n",
       "  </tbody>\n",
       "</table>\n",
       "</div>"
      ],
      "text/plain": [
       "   pk_apt_master  total_house_cnt  total_dong_cnt  max_jisang_floor  \\\n",
       "0             24              450               3                20   \n",
       "1             45              788              13                25   \n",
       "2             49              938              12                25   \n",
       "3             59              655              11                24   \n",
       "4             69             1358              19                24   \n",
       "\n",
       "   min_jisang_floor  total_jucha_rate heat_method  bldg_cd   gen_dt  nm_sch  \\\n",
       "0               1.0              1.04        개별난방        1  1992.12  개화초등학교   \n",
       "1              18.0              1.06        지역난방        1  1998.11  부흥초등학교   \n",
       "2               8.0              1.00        지역난방        1  1997.09  부흥초등학교   \n",
       "3              16.0              1.00        지역난방        1  1997.05  양운초등학교   \n",
       "4              19.0              1.13        지역난방        1  1996.11  좌산초등학교   \n",
       "\n",
       "   dist_sch nm_sub   dist_sub  \n",
       "0  7.662802    동의대  16.087784  \n",
       "1  7.092371     장산   6.653143  \n",
       "2  6.647549     장산   6.956514  \n",
       "3  5.918199     장산   6.672089  \n",
       "4  7.241903     중동   7.985490  "
      ]
     },
     "execution_count": 18,
     "metadata": {},
     "output_type": "execute_result"
    }
   ],
   "source": [
    "data['apt_master'].head()"
   ]
  },
  {
   "cell_type": "markdown",
   "metadata": {},
   "source": [
    "- 'apt_trade'를 원하는 피쳐만 모으자"
   ]
  },
  {
   "cell_type": "code",
   "execution_count": 19,
   "metadata": {},
   "outputs": [],
   "source": [
    "data['apt_trade'] = data['apt_trade'][['pk_apt_trade','pk_apt_master','sigungu_cd','dong_cd','deal_ymd','private_extent','price','floor','pk_apt_detail']]"
   ]
  },
  {
   "cell_type": "markdown",
   "metadata": {},
   "source": [
    "- 'apt_trade'에 'pk_apt_master'키를 기준으로 'apt_master'정보를 합치자"
   ]
  },
  {
   "cell_type": "code",
   "execution_count": 20,
   "metadata": {},
   "outputs": [],
   "source": [
    "data['apt_trade'] = pd.merge(data['apt_trade'],data['apt_master'],\n",
    "                             how='left',on='pk_apt_master')"
   ]
  },
  {
   "cell_type": "code",
   "execution_count": 21,
   "metadata": {},
   "outputs": [
    {
     "name": "stdout",
     "output_type": "stream",
     "text": [
      "<class 'pandas.core.frame.DataFrame'>\n",
      "Int64Index: 248503 entries, 0 to 248502\n",
      "Data columns (total 21 columns):\n",
      " #   Column            Non-Null Count   Dtype  \n",
      "---  ------            --------------   -----  \n",
      " 0   pk_apt_trade      248503 non-null  int64  \n",
      " 1   pk_apt_master     248503 non-null  int64  \n",
      " 2   sigungu_cd        248503 non-null  int64  \n",
      " 3   dong_cd           248503 non-null  int64  \n",
      " 4   deal_ymd          248503 non-null  int64  \n",
      " 5   private_extent    248503 non-null  float64\n",
      " 6   price             248503 non-null  int64  \n",
      " 7   floor             248503 non-null  int64  \n",
      " 8   pk_apt_detail     248503 non-null  int64  \n",
      " 9   total_house_cnt   248503 non-null  int64  \n",
      " 10  total_dong_cnt    248503 non-null  int64  \n",
      " 11  max_jisang_floor  248503 non-null  int64  \n",
      " 12  min_jisang_floor  247717 non-null  float64\n",
      " 13  total_jucha_rate  248493 non-null  float64\n",
      " 14  heat_method       246297 non-null  object \n",
      " 15  bldg_cd           248503 non-null  int64  \n",
      " 16  gen_dt            248503 non-null  float64\n",
      " 17  nm_sch            248503 non-null  object \n",
      " 18  dist_sch          248503 non-null  float64\n",
      " 19  nm_sub            248503 non-null  object \n",
      " 20  dist_sub          248503 non-null  float64\n",
      "dtypes: float64(6), int64(12), object(3)\n",
      "memory usage: 41.7+ MB\n"
     ]
    }
   ],
   "source": [
    "data['apt_trade'].info()"
   ]
  },
  {
   "cell_type": "code",
   "execution_count": 22,
   "metadata": {},
   "outputs": [
    {
     "name": "stdout",
     "output_type": "stream",
     "text": [
      "min_jisang_floor열의 0.3% 데이터가 null\n",
      "\n",
      "total_jucha_rate열의 0.0% 데이터가 null\n",
      "\n",
      "heat_method열의 0.9% 데이터가 null\n",
      "\n"
     ]
    }
   ],
   "source": [
    "for col in data['apt_trade'].columns:\n",
    "    if sum(data['apt_trade'][col].isnull()):\n",
    "        print(str(col) +'열의 %.1f%% 데이터가 null\\n' % ( (sum(data['apt_trade'][col].isnull())/len(data['apt_trade'][col]))*100 ))"
   ]
  },
  {
   "cell_type": "markdown",
   "metadata": {},
   "source": [
    "- null 데이터가 있으면 삭제하자"
   ]
  },
  {
   "cell_type": "code",
   "execution_count": 23,
   "metadata": {},
   "outputs": [],
   "source": [
    "data['apt_trade'] = data['apt_trade'].dropna()"
   ]
  },
  {
   "cell_type": "code",
   "execution_count": 24,
   "metadata": {},
   "outputs": [],
   "source": [
    "for col in data['apt_trade'].columns:\n",
    "    if sum(data['apt_trade'][col].isnull()):\n",
    "        print(str(col) +'열의 %.1f%% 데이터가 null\\n' % ( (sum(data['apt_trade'][col].isnull())/len(data['apt_trade'][col]))*100 ))"
   ]
  },
  {
   "cell_type": "code",
   "execution_count": 25,
   "metadata": {},
   "outputs": [
    {
     "name": "stdout",
     "output_type": "stream",
     "text": [
      "<class 'pandas.core.frame.DataFrame'>\n",
      "Int64Index: 246111 entries, 0 to 248502\n",
      "Data columns (total 21 columns):\n",
      " #   Column            Non-Null Count   Dtype  \n",
      "---  ------            --------------   -----  \n",
      " 0   pk_apt_trade      246111 non-null  int64  \n",
      " 1   pk_apt_master     246111 non-null  int64  \n",
      " 2   sigungu_cd        246111 non-null  int64  \n",
      " 3   dong_cd           246111 non-null  int64  \n",
      " 4   deal_ymd          246111 non-null  int64  \n",
      " 5   private_extent    246111 non-null  float64\n",
      " 6   price             246111 non-null  int64  \n",
      " 7   floor             246111 non-null  int64  \n",
      " 8   pk_apt_detail     246111 non-null  int64  \n",
      " 9   total_house_cnt   246111 non-null  int64  \n",
      " 10  total_dong_cnt    246111 non-null  int64  \n",
      " 11  max_jisang_floor  246111 non-null  int64  \n",
      " 12  min_jisang_floor  246111 non-null  float64\n",
      " 13  total_jucha_rate  246111 non-null  float64\n",
      " 14  heat_method       246111 non-null  object \n",
      " 15  bldg_cd           246111 non-null  int64  \n",
      " 16  gen_dt            246111 non-null  float64\n",
      " 17  nm_sch            246111 non-null  object \n",
      " 18  dist_sch          246111 non-null  float64\n",
      " 19  nm_sub            246111 non-null  object \n",
      " 20  dist_sub          246111 non-null  float64\n",
      "dtypes: float64(6), int64(12), object(3)\n",
      "memory usage: 41.3+ MB\n"
     ]
    }
   ],
   "source": [
    "data['apt_trade'].info()"
   ]
  },
  {
   "cell_type": "markdown",
   "metadata": {},
   "source": [
    "- 데이터 타입을 정제하자"
   ]
  },
  {
   "cell_type": "code",
   "execution_count": 26,
   "metadata": {},
   "outputs": [],
   "source": [
    "data['apt_trade'].pk_apt_trade = data['apt_trade'].pk_apt_trade.astype(str)\n",
    "data['apt_trade'].pk_apt_master = data['apt_trade'].pk_apt_master.astype(str)\n",
    "data['apt_trade'].sigungu_cd = data['apt_trade'].sigungu_cd.astype(str)\n",
    "data['apt_trade'].dong_cd = data['apt_trade'].dong_cd.astype(str)\n",
    "data['apt_trade'].floor = data['apt_trade'].floor.astype(str)\n",
    "data['apt_trade'].pk_apt_detail = data['apt_trade'].pk_apt_detail.astype(str)\n",
    "data['apt_trade'].bldg_cd = data['apt_trade'].bldg_cd.astype(str)"
   ]
  },
  {
   "cell_type": "code",
   "execution_count": 27,
   "metadata": {},
   "outputs": [],
   "source": [
    "data['apt_trade']['price'] = data['apt_trade']['price'].astype(np.float)\n",
    "data['apt_trade']['min_jisang_floor'] = data['apt_trade']['min_jisang_floor'].astype(np.int)\n",
    "\n",
    "data['apt_trade'].gen_dt = data['apt_trade'].gen_dt.astype(str).str.replace('.','').astype(np.int)"
   ]
  },
  {
   "cell_type": "code",
   "execution_count": 28,
   "metadata": {},
   "outputs": [
    {
     "name": "stdout",
     "output_type": "stream",
     "text": [
      "<class 'pandas.core.frame.DataFrame'>\n",
      "Int64Index: 246111 entries, 0 to 248502\n",
      "Data columns (total 21 columns):\n",
      " #   Column            Non-Null Count   Dtype  \n",
      "---  ------            --------------   -----  \n",
      " 0   pk_apt_trade      246111 non-null  object \n",
      " 1   pk_apt_master     246111 non-null  object \n",
      " 2   sigungu_cd        246111 non-null  object \n",
      " 3   dong_cd           246111 non-null  object \n",
      " 4   deal_ymd          246111 non-null  int64  \n",
      " 5   private_extent    246111 non-null  float64\n",
      " 6   price             246111 non-null  float64\n",
      " 7   floor             246111 non-null  object \n",
      " 8   pk_apt_detail     246111 non-null  object \n",
      " 9   total_house_cnt   246111 non-null  int64  \n",
      " 10  total_dong_cnt    246111 non-null  int64  \n",
      " 11  max_jisang_floor  246111 non-null  int64  \n",
      " 12  min_jisang_floor  246111 non-null  int64  \n",
      " 13  total_jucha_rate  246111 non-null  float64\n",
      " 14  heat_method       246111 non-null  object \n",
      " 15  bldg_cd           246111 non-null  object \n",
      " 16  gen_dt            246111 non-null  int64  \n",
      " 17  nm_sch            246111 non-null  object \n",
      " 18  dist_sch          246111 non-null  float64\n",
      " 19  nm_sub            246111 non-null  object \n",
      " 20  dist_sub          246111 non-null  float64\n",
      "dtypes: float64(5), int64(6), object(10)\n",
      "memory usage: 41.3+ MB\n"
     ]
    }
   ],
   "source": [
    "data['apt_trade'].info()"
   ]
  },
  {
   "cell_type": "code",
   "execution_count": 29,
   "metadata": {},
   "outputs": [],
   "source": [
    "data['apt_trade'].to_csv('apt_trade_pre.csv', index=False)"
   ]
  },
  {
   "cell_type": "markdown",
   "metadata": {},
   "source": [
    "- 여기서부터 정리된 데이터를 **df**로 부르자\n",
    "- 각 피쳐의 값 갯수를 확인하자"
   ]
  },
  {
   "cell_type": "code",
   "execution_count": 30,
   "metadata": {},
   "outputs": [],
   "source": [
    "# df = pd.read_csv('apt_trade_pre.csv')\n",
    "df = data['apt_trade'].copy()"
   ]
  },
  {
   "cell_type": "code",
   "execution_count": 31,
   "metadata": {},
   "outputs": [
    {
     "name": "stdout",
     "output_type": "stream",
     "text": [
      "<class 'pandas.core.frame.DataFrame'>\n",
      "Int64Index: 246111 entries, 0 to 248502\n",
      "Data columns (total 21 columns):\n",
      " #   Column            Non-Null Count   Dtype  \n",
      "---  ------            --------------   -----  \n",
      " 0   pk_apt_trade      246111 non-null  object \n",
      " 1   pk_apt_master     246111 non-null  object \n",
      " 2   sigungu_cd        246111 non-null  object \n",
      " 3   dong_cd           246111 non-null  object \n",
      " 4   deal_ymd          246111 non-null  int64  \n",
      " 5   private_extent    246111 non-null  float64\n",
      " 6   price             246111 non-null  float64\n",
      " 7   floor             246111 non-null  object \n",
      " 8   pk_apt_detail     246111 non-null  object \n",
      " 9   total_house_cnt   246111 non-null  int64  \n",
      " 10  total_dong_cnt    246111 non-null  int64  \n",
      " 11  max_jisang_floor  246111 non-null  int64  \n",
      " 12  min_jisang_floor  246111 non-null  int64  \n",
      " 13  total_jucha_rate  246111 non-null  float64\n",
      " 14  heat_method       246111 non-null  object \n",
      " 15  bldg_cd           246111 non-null  object \n",
      " 16  gen_dt            246111 non-null  int64  \n",
      " 17  nm_sch            246111 non-null  object \n",
      " 18  dist_sch          246111 non-null  float64\n",
      " 19  nm_sub            246111 non-null  object \n",
      " 20  dist_sub          246111 non-null  float64\n",
      "dtypes: float64(5), int64(6), object(10)\n",
      "memory usage: 41.3+ MB\n"
     ]
    }
   ],
   "source": [
    "df.info()"
   ]
  },
  {
   "cell_type": "code",
   "execution_count": 32,
   "metadata": {},
   "outputs": [
    {
     "name": "stdout",
     "output_type": "stream",
     "text": [
      "======== pk_apt_trade ========\n",
      "246111\n",
      "======== pk_apt_master ========\n",
      "2047\n",
      "======== sigungu_cd ========\n",
      "16\n",
      "======== dong_cd ========\n",
      "43\n",
      "======== deal_ymd ========\n",
      "77\n",
      "======== private_extent ========\n",
      "4059\n",
      "======== price ========\n",
      "6275\n",
      "======== floor ========\n",
      "82\n",
      "======== pk_apt_detail ========\n",
      "6019\n",
      "======== total_house_cnt ========\n",
      "739\n",
      "======== total_dong_cnt ========\n",
      "35\n",
      "======== max_jisang_floor ========\n",
      "55\n",
      "======== min_jisang_floor ========\n",
      "44\n",
      "======== total_jucha_rate ========\n",
      "203\n",
      "======== heat_method ========\n",
      "3\n",
      "======== bldg_cd ========\n",
      "2\n",
      "======== gen_dt ========\n",
      "509\n",
      "======== nm_sch ========\n",
      "275\n",
      "======== dist_sch ========\n",
      "2047\n",
      "======== nm_sub ========\n",
      "62\n",
      "======== dist_sub ========\n",
      "2047\n"
     ]
    }
   ],
   "source": [
    "for col in df.columns:\n",
    "    print('======== ' + col + ' ========')\n",
    "    print(len(df[col].unique()))"
   ]
  },
  {
   "cell_type": "code",
   "execution_count": 33,
   "metadata": {},
   "outputs": [
    {
     "data": {
      "text/plain": [
       "Index(['pk_apt_trade', 'pk_apt_master', 'sigungu_cd', 'dong_cd', 'deal_ymd',\n",
       "       'private_extent', 'price', 'floor', 'pk_apt_detail', 'total_house_cnt',\n",
       "       'total_dong_cnt', 'max_jisang_floor', 'min_jisang_floor',\n",
       "       'total_jucha_rate', 'heat_method', 'bldg_cd', 'gen_dt', 'nm_sch',\n",
       "       'dist_sch', 'nm_sub', 'dist_sub'],\n",
       "      dtype='object')"
      ]
     },
     "execution_count": 33,
     "metadata": {},
     "output_type": "execute_result"
    }
   ],
   "source": [
    "df.columns"
   ]
  },
  {
   "cell_type": "code",
   "execution_count": 34,
   "metadata": {},
   "outputs": [],
   "source": [
    "df_sp = pd.merge(df, df_apt_detail, on='pk_apt_detail', how='left')"
   ]
  },
  {
   "cell_type": "code",
   "execution_count": 35,
   "metadata": {},
   "outputs": [
    {
     "data": {
      "text/plain": [
       "<AxesSubplot:>"
      ]
     },
     "execution_count": 35,
     "metadata": {},
     "output_type": "execute_result"
    },
    {
     "data": {
      "image/png": "[encoded data removed]",
      "text/plain": [
       "<Figure size 720x360 with 2 Axes>"
      ]
     },
     "metadata": {
      "needs_background": "light"
     },
     "output_type": "display_data"
    }
   ],
   "source": [
    "missingno.matrix(df_sp, figsize=(10,5))"
   ]
  },
  {
   "cell_type": "code",
   "execution_count": 36,
   "metadata": {},
   "outputs": [],
   "source": [
    "df_sp['pr/se'] = df_sp['price']/df_sp['supply_extent']"
   ]
  },
  {
   "cell_type": "code",
   "execution_count": 37,
   "metadata": {},
   "outputs": [
    {
     "name": "stdout",
     "output_type": "stream",
     "text": [
      "<class 'pandas.core.frame.DataFrame'>\n",
      "Int64Index: 246111 entries, 0 to 246110\n",
      "Data columns (total 23 columns):\n",
      " #   Column            Non-Null Count   Dtype  \n",
      "---  ------            --------------   -----  \n",
      " 0   pk_apt_trade      246111 non-null  object \n",
      " 1   pk_apt_master     246111 non-null  object \n",
      " 2   sigungu_cd        246111 non-null  object \n",
      " 3   dong_cd           246111 non-null  object \n",
      " 4   deal_ymd          246111 non-null  int64  \n",
      " 5   private_extent    246111 non-null  float64\n",
      " 6   price             246111 non-null  float64\n",
      " 7   floor             246111 non-null  object \n",
      " 8   pk_apt_detail     246111 non-null  object \n",
      " 9   total_house_cnt   246111 non-null  int64  \n",
      " 10  total_dong_cnt    246111 non-null  int64  \n",
      " 11  max_jisang_floor  246111 non-null  int64  \n",
      " 12  min_jisang_floor  246111 non-null  int64  \n",
      " 13  total_jucha_rate  246111 non-null  float64\n",
      " 14  heat_method       246111 non-null  object \n",
      " 15  bldg_cd           246111 non-null  object \n",
      " 16  gen_dt            246111 non-null  int64  \n",
      " 17  nm_sch            246111 non-null  object \n",
      " 18  dist_sch          246111 non-null  float64\n",
      " 19  nm_sub            246111 non-null  object \n",
      " 20  dist_sub          246111 non-null  float64\n",
      " 21  supply_extent     246111 non-null  float64\n",
      " 22  pr/se             246111 non-null  float64\n",
      "dtypes: float64(7), int64(6), object(10)\n",
      "memory usage: 45.1+ MB\n"
     ]
    }
   ],
   "source": [
    "df_sp.info()"
   ]
  },
  {
   "cell_type": "code",
   "execution_count": 40,
   "metadata": {},
   "outputs": [],
   "source": [
    "df_sp['floor'] = df_sp['floor'].astype(np.int8)\n",
    "df_sp['heat_method'] = df_sp['heat_method'].factorize()[0]\n",
    "df_sp['nm_sch'] = df_sp['nm_sch'].factorize()[0]\n",
    "df_sp['nm_sub'] = df_sp['nm_sub'].factorize()[0] "
   ]
  },
  {
   "cell_type": "code",
   "execution_count": 41,
   "metadata": {},
   "outputs": [
    {
     "name": "stdout",
     "output_type": "stream",
     "text": [
      "<class 'pandas.core.frame.DataFrame'>\n",
      "Int64Index: 246111 entries, 0 to 246110\n",
      "Data columns (total 23 columns):\n",
      " #   Column            Non-Null Count   Dtype  \n",
      "---  ------            --------------   -----  \n",
      " 0   pk_apt_trade      246111 non-null  object \n",
      " 1   pk_apt_master     246111 non-null  object \n",
      " 2   sigungu_cd        246111 non-null  object \n",
      " 3   dong_cd           246111 non-null  object \n",
      " 4   deal_ymd          246111 non-null  int64  \n",
      " 5   private_extent    246111 non-null  float64\n",
      " 6   price             246111 non-null  float64\n",
      " 7   floor             246111 non-null  int8   \n",
      " 8   pk_apt_detail     246111 non-null  object \n",
      " 9   total_house_cnt   246111 non-null  int64  \n",
      " 10  total_dong_cnt    246111 non-null  int64  \n",
      " 11  max_jisang_floor  246111 non-null  int64  \n",
      " 12  min_jisang_floor  246111 non-null  int64  \n",
      " 13  total_jucha_rate  246111 non-null  float64\n",
      " 14  heat_method       246111 non-null  int64  \n",
      " 15  bldg_cd           246111 non-null  object \n",
      " 16  gen_dt            246111 non-null  int64  \n",
      " 17  nm_sch            246111 non-null  int64  \n",
      " 18  dist_sch          246111 non-null  float64\n",
      " 19  nm_sub            246111 non-null  int64  \n",
      " 20  dist_sub          246111 non-null  float64\n",
      " 21  supply_extent     246111 non-null  float64\n",
      " 22  pr/se             246111 non-null  float64\n",
      "dtypes: float64(7), int64(9), int8(1), object(6)\n",
      "memory usage: 43.4+ MB\n"
     ]
    }
   ],
   "source": [
    "df_sp.info()"
   ]
  },
  {
   "cell_type": "code",
   "execution_count": 42,
   "metadata": {},
   "outputs": [
    {
     "name": "stdout",
     "output_type": "stream",
     "text": [
      "CPU times: user 3.83 s, sys: 107 ms, total: 3.93 s\n",
      "Wall time: 4.3 s\n"
     ]
    }
   ],
   "source": [
    "%time df_sp.to_csv('apt_trade_0721.csv', index=False)"
   ]
  },
  {
   "cell_type": "code",
   "execution_count": 43,
   "metadata": {},
   "outputs": [
    {
     "data": {
      "text/plain": [
       "(246111, 23)"
      ]
     },
     "execution_count": 43,
     "metadata": {},
     "output_type": "execute_result"
    }
   ],
   "source": [
    "df_sp.shape"
   ]
  },
  {
   "cell_type": "code",
   "execution_count": 6,
   "metadata": {},
   "outputs": [],
   "source": []
  },
  {
   "cell_type": "code",
   "execution_count": 46,
   "metadata": {},
   "outputs": [
    {
     "data": {
      "text/html": [
       "<div>\n",
       "<style scoped>\n",
       "    .dataframe tbody tr th:only-of-type {\n",
       "        vertical-align: middle;\n",
       "    }\n",
       "\n",
       "    .dataframe tbody tr th {\n",
       "        vertical-align: top;\n",
       "    }\n",
       "\n",
       "    .dataframe thead th {\n",
       "        text-align: right;\n",
       "    }\n",
       "</style>\n",
       "<table border=\"1\" class=\"dataframe\">\n",
       "  <thead>\n",
       "    <tr style=\"text-align: right;\">\n",
       "      <th></th>\n",
       "      <th>pk_apt_trade</th>\n",
       "      <th>pk_apt_master</th>\n",
       "      <th>sigungu_cd</th>\n",
       "      <th>dong_cd</th>\n",
       "      <th>deal_ymd</th>\n",
       "      <th>private_extent</th>\n",
       "      <th>price</th>\n",
       "      <th>floor</th>\n",
       "      <th>pk_apt_detail</th>\n",
       "      <th>total_house_cnt</th>\n",
       "      <th>...</th>\n",
       "      <th>total_jucha_rate</th>\n",
       "      <th>heat_method</th>\n",
       "      <th>bldg_cd</th>\n",
       "      <th>gen_dt</th>\n",
       "      <th>nm_sch</th>\n",
       "      <th>dist_sch</th>\n",
       "      <th>nm_sub</th>\n",
       "      <th>dist_sub</th>\n",
       "      <th>supply_extent</th>\n",
       "      <th>pr/se</th>\n",
       "    </tr>\n",
       "  </thead>\n",
       "  <tbody>\n",
       "    <tr>\n",
       "      <th>count</th>\n",
       "      <td>246111</td>\n",
       "      <td>246111</td>\n",
       "      <td>246111</td>\n",
       "      <td>246111</td>\n",
       "      <td>246111.000000</td>\n",
       "      <td>246111.000000</td>\n",
       "      <td>246111.000000</td>\n",
       "      <td>246111.000000</td>\n",
       "      <td>246111</td>\n",
       "      <td>246111.000000</td>\n",
       "      <td>...</td>\n",
       "      <td>246111.000000</td>\n",
       "      <td>246111.000000</td>\n",
       "      <td>246111</td>\n",
       "      <td>246111.000000</td>\n",
       "      <td>246111.000000</td>\n",
       "      <td>246111.000000</td>\n",
       "      <td>246111.000000</td>\n",
       "      <td>246111.000000</td>\n",
       "      <td>246111.000000</td>\n",
       "      <td>246111.000000</td>\n",
       "    </tr>\n",
       "    <tr>\n",
       "      <th>unique</th>\n",
       "      <td>246111</td>\n",
       "      <td>2047</td>\n",
       "      <td>16</td>\n",
       "      <td>43</td>\n",
       "      <td>NaN</td>\n",
       "      <td>NaN</td>\n",
       "      <td>NaN</td>\n",
       "      <td>NaN</td>\n",
       "      <td>6019</td>\n",
       "      <td>NaN</td>\n",
       "      <td>...</td>\n",
       "      <td>NaN</td>\n",
       "      <td>NaN</td>\n",
       "      <td>2</td>\n",
       "      <td>NaN</td>\n",
       "      <td>NaN</td>\n",
       "      <td>NaN</td>\n",
       "      <td>NaN</td>\n",
       "      <td>NaN</td>\n",
       "      <td>NaN</td>\n",
       "      <td>NaN</td>\n",
       "    </tr>\n",
       "    <tr>\n",
       "      <th>top</th>\n",
       "      <td>7116148</td>\n",
       "      <td>58418</td>\n",
       "      <td>26350</td>\n",
       "      <td>10200</td>\n",
       "      <td>NaN</td>\n",
       "      <td>NaN</td>\n",
       "      <td>NaN</td>\n",
       "      <td>NaN</td>\n",
       "      <td>18778</td>\n",
       "      <td>NaN</td>\n",
       "      <td>...</td>\n",
       "      <td>NaN</td>\n",
       "      <td>NaN</td>\n",
       "      <td>1</td>\n",
       "      <td>NaN</td>\n",
       "      <td>NaN</td>\n",
       "      <td>NaN</td>\n",
       "      <td>NaN</td>\n",
       "      <td>NaN</td>\n",
       "      <td>NaN</td>\n",
       "      <td>NaN</td>\n",
       "    </tr>\n",
       "    <tr>\n",
       "      <th>freq</th>\n",
       "      <td>1</td>\n",
       "      <td>3301</td>\n",
       "      <td>41325</td>\n",
       "      <td>32026</td>\n",
       "      <td>NaN</td>\n",
       "      <td>NaN</td>\n",
       "      <td>NaN</td>\n",
       "      <td>NaN</td>\n",
       "      <td>1426</td>\n",
       "      <td>NaN</td>\n",
       "      <td>...</td>\n",
       "      <td>NaN</td>\n",
       "      <td>NaN</td>\n",
       "      <td>245963</td>\n",
       "      <td>NaN</td>\n",
       "      <td>NaN</td>\n",
       "      <td>NaN</td>\n",
       "      <td>NaN</td>\n",
       "      <td>NaN</td>\n",
       "      <td>NaN</td>\n",
       "      <td>NaN</td>\n",
       "    </tr>\n",
       "    <tr>\n",
       "      <th>mean</th>\n",
       "      <td>NaN</td>\n",
       "      <td>NaN</td>\n",
       "      <td>NaN</td>\n",
       "      <td>NaN</td>\n",
       "      <td>201632.260809</td>\n",
       "      <td>78.864542</td>\n",
       "      <td>27227.539915</td>\n",
       "      <td>10.937496</td>\n",
       "      <td>NaN</td>\n",
       "      <td>1039.338339</td>\n",
       "      <td>...</td>\n",
       "      <td>0.977350</td>\n",
       "      <td>0.250529</td>\n",
       "      <td>NaN</td>\n",
       "      <td>181380.342337</td>\n",
       "      <td>134.796706</td>\n",
       "      <td>8.423263</td>\n",
       "      <td>31.723673</td>\n",
       "      <td>13.568693</td>\n",
       "      <td>98.364031</td>\n",
       "      <td>266.635233</td>\n",
       "    </tr>\n",
       "    <tr>\n",
       "      <th>std</th>\n",
       "      <td>NaN</td>\n",
       "      <td>NaN</td>\n",
       "      <td>NaN</td>\n",
       "      <td>NaN</td>\n",
       "      <td>179.843840</td>\n",
       "      <td>29.828629</td>\n",
       "      <td>16945.192133</td>\n",
       "      <td>7.894998</td>\n",
       "      <td>NaN</td>\n",
       "      <td>1119.658672</td>\n",
       "      <td>...</td>\n",
       "      <td>0.512759</td>\n",
       "      <td>0.620119</td>\n",
       "      <td>NaN</td>\n",
       "      <td>54828.826845</td>\n",
       "      <td>69.082680</td>\n",
       "      <td>4.979602</td>\n",
       "      <td>15.910237</td>\n",
       "      <td>6.248696</td>\n",
       "      <td>35.664733</td>\n",
       "      <td>96.586217</td>\n",
       "    </tr>\n",
       "    <tr>\n",
       "      <th>min</th>\n",
       "      <td>NaN</td>\n",
       "      <td>NaN</td>\n",
       "      <td>NaN</td>\n",
       "      <td>NaN</td>\n",
       "      <td>201401.000000</td>\n",
       "      <td>14.290000</td>\n",
       "      <td>729.000000</td>\n",
       "      <td>-1.000000</td>\n",
       "      <td>NaN</td>\n",
       "      <td>20.000000</td>\n",
       "      <td>...</td>\n",
       "      <td>0.000000</td>\n",
       "      <td>0.000000</td>\n",
       "      <td>NaN</td>\n",
       "      <td>19761.000000</td>\n",
       "      <td>0.000000</td>\n",
       "      <td>0.265642</td>\n",
       "      <td>0.000000</td>\n",
       "      <td>0.110245</td>\n",
       "      <td>17.182900</td>\n",
       "      <td>6.290095</td>\n",
       "    </tr>\n",
       "    <tr>\n",
       "      <th>25%</th>\n",
       "      <td>NaN</td>\n",
       "      <td>NaN</td>\n",
       "      <td>NaN</td>\n",
       "      <td>NaN</td>\n",
       "      <td>201504.000000</td>\n",
       "      <td>59.805100</td>\n",
       "      <td>16243.500000</td>\n",
       "      <td>5.000000</td>\n",
       "      <td>NaN</td>\n",
       "      <td>380.000000</td>\n",
       "      <td>...</td>\n",
       "      <td>0.700000</td>\n",
       "      <td>0.000000</td>\n",
       "      <td>NaN</td>\n",
       "      <td>199108.000000</td>\n",
       "      <td>79.000000</td>\n",
       "      <td>4.371812</td>\n",
       "      <td>17.000000</td>\n",
       "      <td>8.445678</td>\n",
       "      <td>74.869000</td>\n",
       "      <td>199.766979</td>\n",
       "    </tr>\n",
       "    <tr>\n",
       "      <th>50%</th>\n",
       "      <td>NaN</td>\n",
       "      <td>NaN</td>\n",
       "      <td>NaN</td>\n",
       "      <td>NaN</td>\n",
       "      <td>201607.000000</td>\n",
       "      <td>82.470000</td>\n",
       "      <td>23700.000000</td>\n",
       "      <td>10.000000</td>\n",
       "      <td>NaN</td>\n",
       "      <td>722.000000</td>\n",
       "      <td>...</td>\n",
       "      <td>1.010000</td>\n",
       "      <td>0.000000</td>\n",
       "      <td>NaN</td>\n",
       "      <td>199806.000000</td>\n",
       "      <td>139.000000</td>\n",
       "      <td>7.043034</td>\n",
       "      <td>32.000000</td>\n",
       "      <td>13.110087</td>\n",
       "      <td>96.452000</td>\n",
       "      <td>250.708700</td>\n",
       "    </tr>\n",
       "    <tr>\n",
       "      <th>75%</th>\n",
       "      <td>NaN</td>\n",
       "      <td>NaN</td>\n",
       "      <td>NaN</td>\n",
       "      <td>NaN</td>\n",
       "      <td>201801.000000</td>\n",
       "      <td>84.981700</td>\n",
       "      <td>33900.000000</td>\n",
       "      <td>15.000000</td>\n",
       "      <td>NaN</td>\n",
       "      <td>1280.000000</td>\n",
       "      <td>...</td>\n",
       "      <td>1.210000</td>\n",
       "      <td>0.000000</td>\n",
       "      <td>NaN</td>\n",
       "      <td>200607.000000</td>\n",
       "      <td>191.000000</td>\n",
       "      <td>11.605966</td>\n",
       "      <td>44.000000</td>\n",
       "      <td>16.201917</td>\n",
       "      <td>111.724500</td>\n",
       "      <td>312.768967</td>\n",
       "    </tr>\n",
       "    <tr>\n",
       "      <th>max</th>\n",
       "      <td>NaN</td>\n",
       "      <td>NaN</td>\n",
       "      <td>NaN</td>\n",
       "      <td>NaN</td>\n",
       "      <td>202005.000000</td>\n",
       "      <td>244.849000</td>\n",
       "      <td>414340.000000</td>\n",
       "      <td>83.000000</td>\n",
       "      <td>NaN</td>\n",
       "      <td>7374.000000</td>\n",
       "      <td>...</td>\n",
       "      <td>4.360000</td>\n",
       "      <td>2.000000</td>\n",
       "      <td>NaN</td>\n",
       "      <td>202001.000000</td>\n",
       "      <td>274.000000</td>\n",
       "      <td>27.028802</td>\n",
       "      <td>61.000000</td>\n",
       "      <td>32.386635</td>\n",
       "      <td>325.306000</td>\n",
       "      <td>1277.441332</td>\n",
       "    </tr>\n",
       "  </tbody>\n",
       "</table>\n",
       "<p>11 rows × 23 columns</p>\n",
       "</div>"
      ],
      "text/plain": [
       "       pk_apt_trade pk_apt_master sigungu_cd dong_cd       deal_ymd  \\\n",
       "count        246111        246111     246111  246111  246111.000000   \n",
       "unique       246111          2047         16      43            NaN   \n",
       "top         7116148         58418      26350   10200            NaN   \n",
       "freq              1          3301      41325   32026            NaN   \n",
       "mean            NaN           NaN        NaN     NaN  201632.260809   \n",
       "std             NaN           NaN        NaN     NaN     179.843840   \n",
       "min             NaN           NaN        NaN     NaN  201401.000000   \n",
       "25%             NaN           NaN        NaN     NaN  201504.000000   \n",
       "50%             NaN           NaN        NaN     NaN  201607.000000   \n",
       "75%             NaN           NaN        NaN     NaN  201801.000000   \n",
       "max             NaN           NaN        NaN     NaN  202005.000000   \n",
       "\n",
       "        private_extent          price          floor pk_apt_detail  \\\n",
       "count    246111.000000  246111.000000  246111.000000        246111   \n",
       "unique             NaN            NaN            NaN          6019   \n",
       "top                NaN            NaN            NaN         18778   \n",
       "freq               NaN            NaN            NaN          1426   \n",
       "mean         78.864542   27227.539915      10.937496           NaN   \n",
       "std          29.828629   16945.192133       7.894998           NaN   \n",
       "min          14.290000     729.000000      -1.000000           NaN   \n",
       "25%          59.805100   16243.500000       5.000000           NaN   \n",
       "50%          82.470000   23700.000000      10.000000           NaN   \n",
       "75%          84.981700   33900.000000      15.000000           NaN   \n",
       "max         244.849000  414340.000000      83.000000           NaN   \n",
       "\n",
       "        total_house_cnt  ...  total_jucha_rate    heat_method  bldg_cd  \\\n",
       "count     246111.000000  ...     246111.000000  246111.000000   246111   \n",
       "unique              NaN  ...               NaN            NaN        2   \n",
       "top                 NaN  ...               NaN            NaN        1   \n",
       "freq                NaN  ...               NaN            NaN   245963   \n",
       "mean        1039.338339  ...          0.977350       0.250529      NaN   \n",
       "std         1119.658672  ...          0.512759       0.620119      NaN   \n",
       "min           20.000000  ...          0.000000       0.000000      NaN   \n",
       "25%          380.000000  ...          0.700000       0.000000      NaN   \n",
       "50%          722.000000  ...          1.010000       0.000000      NaN   \n",
       "75%         1280.000000  ...          1.210000       0.000000      NaN   \n",
       "max         7374.000000  ...          4.360000       2.000000      NaN   \n",
       "\n",
       "               gen_dt         nm_sch       dist_sch         nm_sub  \\\n",
       "count   246111.000000  246111.000000  246111.000000  246111.000000   \n",
       "unique            NaN            NaN            NaN            NaN   \n",
       "top               NaN            NaN            NaN            NaN   \n",
       "freq              NaN            NaN            NaN            NaN   \n",
       "mean    181380.342337     134.796706       8.423263      31.723673   \n",
       "std      54828.826845      69.082680       4.979602      15.910237   \n",
       "min      19761.000000       0.000000       0.265642       0.000000   \n",
       "25%     199108.000000      79.000000       4.371812      17.000000   \n",
       "50%     199806.000000     139.000000       7.043034      32.000000   \n",
       "75%     200607.000000     191.000000      11.605966      44.000000   \n",
       "max     202001.000000     274.000000      27.028802      61.000000   \n",
       "\n",
       "             dist_sub  supply_extent          pr/se  \n",
       "count   246111.000000  246111.000000  246111.000000  \n",
       "unique            NaN            NaN            NaN  \n",
       "top               NaN            NaN            NaN  \n",
       "freq              NaN            NaN            NaN  \n",
       "mean        13.568693      98.364031     266.635233  \n",
       "std          6.248696      35.664733      96.586217  \n",
       "min          0.110245      17.182900       6.290095  \n",
       "25%          8.445678      74.869000     199.766979  \n",
       "50%         13.110087      96.452000     250.708700  \n",
       "75%         16.201917     111.724500     312.768967  \n",
       "max         32.386635     325.306000    1277.441332  \n",
       "\n",
       "[11 rows x 23 columns]"
      ]
     },
     "execution_count": 46,
     "metadata": {},
     "output_type": "execute_result"
    }
   ],
   "source": [
    "df_sp.describe(include='all')"
   ]
  },
  {
   "cell_type": "code",
   "execution_count": 49,
   "metadata": {},
   "outputs": [
    {
     "data": {
      "text/plain": [
       "<AxesSubplot:xlabel='pr/se'>"
      ]
     },
     "execution_count": 49,
     "metadata": {},
     "output_type": "execute_result"
    },
    {
     "data": {
      "image/png": "[encoded data removed]",
      "text/plain": [
       "<Figure size 432x288 with 1 Axes>"
      ]
     },
     "metadata": {
      "needs_background": "light"
     },
     "output_type": "display_data"
    }
   ],
   "source": [
    "sns.distplot(df_sp['pr/se'])"
   ]
  },
  {
   "cell_type": "markdown",
   "metadata": {},
   "source": [
    "%time df_onehot = pd.get_dummies(df, columns = ['sigungu_cd', 'dong_cd', 'floor', 'heat_method', 'bldg_cd', 'gen_dt', 'nm_sch', 'nm_sub'])"
   ]
  }
 ],
 "metadata": {
  "kernelspec": {
   "display_name": "Python 3",
   "language": "python",
   "name": "python3"
  },
  "language_info": {
   "codemirror_mode": {
    "name": "ipython",
    "version": 3
   },
   "file_extension": ".py",
   "mimetype": "text/x-python",
   "name": "python",
   "nbconvert_exporter": "python",
   "pygments_lexer": "ipython3",
   "version": "3.7.7"
  }
 },
 "nbformat": 4,
 "nbformat_minor": 4
}
