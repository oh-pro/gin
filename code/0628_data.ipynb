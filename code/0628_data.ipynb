{
 "cells": [
  {
   "cell_type": "code",
   "execution_count": 1,
   "metadata": {},
   "outputs": [],
   "source": [
    "import os\n",
    "import pandas as pd\n",
    "import numpy as np\n",
    "from haversine import haversine as hs"
   ]
  },
  {
   "cell_type": "code",
   "execution_count": 2,
   "metadata": {},
   "outputs": [],
   "source": [
    "data = {}\n",
    "for file in os.listdir('./data_'):\n",
    "    if '.csv' in file:\n",
    "        fn = file.replace('.csv','')\n",
    "        data[fn] = pd.read_csv('./data_/'+file)"
   ]
  },
  {
   "cell_type": "code",
   "execution_count": 3,
   "metadata": {},
   "outputs": [
    {
     "name": "stdout",
     "output_type": "stream",
     "text": [
      "======= busan_eschool ======\n",
      "<class 'pandas.core.frame.DataFrame'>\n",
      "RangeIndex: 305 entries, 0 to 304\n",
      "Data columns (total 9 columns):\n",
      "연번           305 non-null int64\n",
      "구분           305 non-null object\n",
      "관할지원청        305 non-null object\n",
      "기관명          305 non-null object\n",
      "주소           305 non-null object\n",
      "Latitude     305 non-null float64\n",
      "Longitude    305 non-null float64\n",
      "전화           305 non-null object\n",
      "홈페이지         305 non-null object\n",
      "dtypes: float64(2), int64(1), object(6)\n",
      "memory usage: 21.6+ KB\n",
      "None\n",
      "\n",
      "\n",
      "======= apt_trade ======\n",
      "<class 'pandas.core.frame.DataFrame'>\n",
      "RangeIndex: 248503 entries, 0 to 248502\n",
      "Data columns (total 25 columns):\n",
      "pk_apt_trade      248503 non-null int64\n",
      "pk_apt_master     248503 non-null int64\n",
      "sigungu_cd        248503 non-null int64\n",
      "dong_cd           248503 non-null int64\n",
      "deal_ymd          248503 non-null int64\n",
      "gen_dt            248503 non-null int64\n",
      "dong              248503 non-null object\n",
      "bldg_nm           248503 non-null object\n",
      "bun               248503 non-null object\n",
      "ji                118302 non-null float64\n",
      "private_extent    248503 non-null float64\n",
      "year              248503 non-null int64\n",
      "mon               248503 non-null int64\n",
      "day               248503 non-null int64\n",
      "real_day          248503 non-null int64\n",
      "price             248503 non-null int64\n",
      "floor             248503 non-null int64\n",
      "inst_dt           248503 non-null object\n",
      "totcnt            248503 non-null int64\n",
      "treat_yn          248503 non-null object\n",
      "except_yn         248503 non-null object\n",
      "new_yn            248503 non-null object\n",
      "jibun             248503 non-null object\n",
      "volume_yn         248503 non-null object\n",
      "pk_apt_detail     248503 non-null int64\n",
      "dtypes: float64(2), int64(14), object(9)\n",
      "memory usage: 47.4+ MB\n",
      "None\n",
      "\n",
      "\n",
      "======= busan_subway ======\n",
      "<class 'pandas.core.frame.DataFrame'>\n",
      "RangeIndex: 114 entries, 0 to 113\n",
      "Data columns (total 15 columns):\n",
      "역코드           114 non-null int64\n",
      "역명            114 non-null object\n",
      "영문            114 non-null object\n",
      "전화번호          114 non-null object\n",
      "역주소           114 non-null object\n",
      "Latitude      114 non-null float64\n",
      "Longitude     114 non-null float64\n",
      "환승주차장         33 non-null object\n",
      "자전거보관소        111 non-null object\n",
      "물품보관함         71 non-null object\n",
      "자동사진기         24 non-null object\n",
      "도시철도경찰대       7 non-null object\n",
      "섬식형(아일랜드형)    14 non-null object\n",
      "엘리베이터         113 non-null object\n",
      "역명및 지명유래      114 non-null object\n",
      "dtypes: float64(2), int64(1), object(12)\n",
      "memory usage: 13.5+ KB\n",
      "None\n",
      "\n",
      "\n",
      "======= apt_master ======\n",
      "<class 'pandas.core.frame.DataFrame'>\n",
      "RangeIndex: 2770 entries, 0 to 2769\n",
      "Data columns (total 43 columns):\n",
      "pk_apt_master          2770 non-null int64\n",
      "build_reg_cd           2182 non-null object\n",
      "bldg_nm                2625 non-null object\n",
      "edit_bldg_nm           2770 non-null object\n",
      "sigungu_cd             2770 non-null int64\n",
      "dong_cd                2770 non-null int64\n",
      "bun                    2767 non-null float64\n",
      "ji                     2749 non-null float64\n",
      "rodo_cd                2358 non-null float64\n",
      "main_cd                2366 non-null object\n",
      "apt_dong_nm            2366 non-null object\n",
      "address                2770 non-null object\n",
      "address_doro           2222 non-null object\n",
      "total_house_cnt        2770 non-null int64\n",
      "total_dong_cnt         2770 non-null int64\n",
      "land_extent            2108 non-null float64\n",
      "build_extent           2340 non-null float64\n",
      "total_floor_area       2348 non-null float64\n",
      "cal_floor_area_rate    2337 non-null float64\n",
      "floor_area_rate        2387 non-null float64\n",
      "bldg_coverage_rate     2390 non-null float64\n",
      "max_jisang_floor       2770 non-null int64\n",
      "min_jisang_floor       2624 non-null float64\n",
      "total_jucha            2769 non-null float64\n",
      "total_jucha_rate       2769 non-null float64\n",
      "heat_method            2614 non-null object\n",
      "heat_fuel              2598 non-null object\n",
      "developer              2569 non-null object\n",
      "lat                    2770 non-null float64\n",
      "lon                    2770 non-null float64\n",
      "inst_dt                2770 non-null object\n",
      "bldg_cd                2770 non-null int64\n",
      "ori_bldg_cd            2770 non-null int64\n",
      "bldg_cd_yn             17 non-null float64\n",
      "gen_dt                 2770 non-null float64\n",
      "gen_dt_yn              2770 non-null object\n",
      "expire_dt              2770 non-null float64\n",
      "add_cl                 2366 non-null object\n",
      "dupchk_yn              2770 non-null object\n",
      "is_new                 2770 non-null object\n",
      "apt_mapper             2770 non-null object\n",
      "gin_yn                 2379 non-null object\n",
      "gov_school_cd          2629 non-null object\n",
      "dtypes: float64(17), int64(8), object(18)\n",
      "memory usage: 930.7+ KB\n",
      "None\n",
      "\n",
      "\n"
     ]
    }
   ],
   "source": [
    "for key in data.keys():\n",
    "    print('======= ' + key + ' ======')\n",
    "    print(data[key].info())\n",
    "    print('\\n')"
   ]
  },
  {
   "cell_type": "markdown",
   "metadata": {},
   "source": [
    "- '학교이름','학교경도','학교위도','역이름','역경도','역위도' 데이터 프레임 '환경'생성"
   ]
  },
  {
   "cell_type": "code",
   "execution_count": 4,
   "metadata": {},
   "outputs": [],
   "source": [
    "data['busan_eschool']['lat_lon'] = list(zip(data['busan_eschool']['Latitude'],data['busan_eschool']['Longitude']))\n",
    "data['busan_eschool'] = data['busan_eschool'][['기관명', 'lat_lon']]\n",
    "data['busan_eschool'] = data['busan_eschool'].rename(columns = {'기관명':'학교명'})"
   ]
  },
  {
   "cell_type": "code",
   "execution_count": 5,
   "metadata": {},
   "outputs": [
    {
     "data": {
      "text/html": [
       "<div>\n",
       "<style scoped>\n",
       "    .dataframe tbody tr th:only-of-type {\n",
       "        vertical-align: middle;\n",
       "    }\n",
       "\n",
       "    .dataframe tbody tr th {\n",
       "        vertical-align: top;\n",
       "    }\n",
       "\n",
       "    .dataframe thead th {\n",
       "        text-align: right;\n",
       "    }\n",
       "</style>\n",
       "<table border=\"1\" class=\"dataframe\">\n",
       "  <thead>\n",
       "    <tr style=\"text-align: right;\">\n",
       "      <th></th>\n",
       "      <th>학교명</th>\n",
       "      <th>lat_lon</th>\n",
       "    </tr>\n",
       "  </thead>\n",
       "  <tbody>\n",
       "    <tr>\n",
       "      <th>0</th>\n",
       "      <td>감정초등학교</td>\n",
       "      <td>(35.096870200000005, 129.0110047)</td>\n",
       "    </tr>\n",
       "    <tr>\n",
       "      <th>1</th>\n",
       "      <td>감천초등학교</td>\n",
       "      <td>(35.08309620000001, 129.0076053)</td>\n",
       "    </tr>\n",
       "    <tr>\n",
       "      <th>2</th>\n",
       "      <td>광일초등학교</td>\n",
       "      <td>(35.10372520000001, 129.02986090000002)</td>\n",
       "    </tr>\n",
       "    <tr>\n",
       "      <th>3</th>\n",
       "      <td>괴정초등학교</td>\n",
       "      <td>(35.1037635, 128.9998745)</td>\n",
       "    </tr>\n",
       "    <tr>\n",
       "      <th>4</th>\n",
       "      <td>구덕초등학교</td>\n",
       "      <td>(35.1202619, 129.0123589)</td>\n",
       "    </tr>\n",
       "  </tbody>\n",
       "</table>\n",
       "</div>"
      ],
      "text/plain": [
       "      학교명                                  lat_lon\n",
       "0  감정초등학교        (35.096870200000005, 129.0110047)\n",
       "1  감천초등학교         (35.08309620000001, 129.0076053)\n",
       "2  광일초등학교  (35.10372520000001, 129.02986090000002)\n",
       "3  괴정초등학교                (35.1037635, 128.9998745)\n",
       "4  구덕초등학교                (35.1202619, 129.0123589)"
      ]
     },
     "execution_count": 5,
     "metadata": {},
     "output_type": "execute_result"
    }
   ],
   "source": [
    "data['busan_eschool'].head()"
   ]
  },
  {
   "cell_type": "code",
   "execution_count": 6,
   "metadata": {},
   "outputs": [],
   "source": [
    "data['busan_subway']['lat_lon'] = list(zip(data['busan_subway']['Latitude'],data['busan_subway']['Longitude']))\n",
    "data['busan_subway'] = data['busan_subway'][['역명', 'lat_lon']]"
   ]
  },
  {
   "cell_type": "code",
   "execution_count": 7,
   "metadata": {},
   "outputs": [
    {
     "data": {
      "text/html": [
       "<div>\n",
       "<style scoped>\n",
       "    .dataframe tbody tr th:only-of-type {\n",
       "        vertical-align: middle;\n",
       "    }\n",
       "\n",
       "    .dataframe tbody tr th {\n",
       "        vertical-align: top;\n",
       "    }\n",
       "\n",
       "    .dataframe thead th {\n",
       "        text-align: right;\n",
       "    }\n",
       "</style>\n",
       "<table border=\"1\" class=\"dataframe\">\n",
       "  <thead>\n",
       "    <tr style=\"text-align: right;\">\n",
       "      <th></th>\n",
       "      <th>역명</th>\n",
       "      <th>lat_lon</th>\n",
       "    </tr>\n",
       "  </thead>\n",
       "  <tbody>\n",
       "    <tr>\n",
       "      <th>0</th>\n",
       "      <td>다대포해수욕장역</td>\n",
       "      <td>(35.074697799999996, 128.97118840000002)</td>\n",
       "    </tr>\n",
       "    <tr>\n",
       "      <th>1</th>\n",
       "      <td>다대포항역</td>\n",
       "      <td>(35.074697799999996, 128.97118840000002)</td>\n",
       "    </tr>\n",
       "    <tr>\n",
       "      <th>2</th>\n",
       "      <td>낫개역</td>\n",
       "      <td>(35.074697799999996, 128.97118840000002)</td>\n",
       "    </tr>\n",
       "    <tr>\n",
       "      <th>3</th>\n",
       "      <td>신장림역</td>\n",
       "      <td>(35.074697799999996, 128.97118840000002)</td>\n",
       "    </tr>\n",
       "    <tr>\n",
       "      <th>4</th>\n",
       "      <td>장림역</td>\n",
       "      <td>(35.074697799999996, 128.97118840000002)</td>\n",
       "    </tr>\n",
       "  </tbody>\n",
       "</table>\n",
       "</div>"
      ],
      "text/plain": [
       "         역명                                   lat_lon\n",
       "0  다대포해수욕장역  (35.074697799999996, 128.97118840000002)\n",
       "1     다대포항역  (35.074697799999996, 128.97118840000002)\n",
       "2       낫개역  (35.074697799999996, 128.97118840000002)\n",
       "3      신장림역  (35.074697799999996, 128.97118840000002)\n",
       "4       장림역  (35.074697799999996, 128.97118840000002)"
      ]
     },
     "execution_count": 7,
     "metadata": {},
     "output_type": "execute_result"
    }
   ],
   "source": [
    "data['busan_subway'].head()"
   ]
  },
  {
   "cell_type": "markdown",
   "metadata": {},
   "source": [
    "- 'apt_master' 데이터 프레임에서 필요한 열만 추출"
   ]
  },
  {
   "cell_type": "code",
   "execution_count": 8,
   "metadata": {},
   "outputs": [
    {
     "data": {
      "text/html": [
       "<div>\n",
       "<style scoped>\n",
       "    .dataframe tbody tr th:only-of-type {\n",
       "        vertical-align: middle;\n",
       "    }\n",
       "\n",
       "    .dataframe tbody tr th {\n",
       "        vertical-align: top;\n",
       "    }\n",
       "\n",
       "    .dataframe thead th {\n",
       "        text-align: right;\n",
       "    }\n",
       "</style>\n",
       "<table border=\"1\" class=\"dataframe\">\n",
       "  <thead>\n",
       "    <tr style=\"text-align: right;\">\n",
       "      <th></th>\n",
       "      <th>pk_apt_master</th>\n",
       "      <th>total_house_cnt</th>\n",
       "      <th>total_dong_cnt</th>\n",
       "      <th>max_jisang_floor</th>\n",
       "      <th>min_jisang_floor</th>\n",
       "      <th>total_jucha_rate</th>\n",
       "      <th>heat_method</th>\n",
       "      <th>lat_lon</th>\n",
       "      <th>bldg_cd</th>\n",
       "      <th>gen_dt</th>\n",
       "    </tr>\n",
       "  </thead>\n",
       "  <tbody>\n",
       "    <tr>\n",
       "      <th>0</th>\n",
       "      <td>24</td>\n",
       "      <td>450</td>\n",
       "      <td>3</td>\n",
       "      <td>20</td>\n",
       "      <td>1.0</td>\n",
       "      <td>1.04</td>\n",
       "      <td>개별난방</td>\n",
       "      <td>(35.160214286423155, 129.02247008783408)</td>\n",
       "      <td>1</td>\n",
       "      <td>1992.12</td>\n",
       "    </tr>\n",
       "    <tr>\n",
       "      <th>1</th>\n",
       "      <td>45</td>\n",
       "      <td>788</td>\n",
       "      <td>13</td>\n",
       "      <td>25</td>\n",
       "      <td>18.0</td>\n",
       "      <td>1.06</td>\n",
       "      <td>지역난방</td>\n",
       "      <td>(35.17814223752016, 129.18080133654178)</td>\n",
       "      <td>1</td>\n",
       "      <td>1998.11</td>\n",
       "    </tr>\n",
       "    <tr>\n",
       "      <th>2</th>\n",
       "      <td>49</td>\n",
       "      <td>938</td>\n",
       "      <td>12</td>\n",
       "      <td>25</td>\n",
       "      <td>8.0</td>\n",
       "      <td>1.00</td>\n",
       "      <td>지역난방</td>\n",
       "      <td>(35.17511010074104, 129.17683514653672)</td>\n",
       "      <td>1</td>\n",
       "      <td>1997.09</td>\n",
       "    </tr>\n",
       "    <tr>\n",
       "      <th>3</th>\n",
       "      <td>59</td>\n",
       "      <td>655</td>\n",
       "      <td>11</td>\n",
       "      <td>24</td>\n",
       "      <td>16.0</td>\n",
       "      <td>1.00</td>\n",
       "      <td>지역난방</td>\n",
       "      <td>(35.177678699197266, 129.16727161464672)</td>\n",
       "      <td>1</td>\n",
       "      <td>1997.05</td>\n",
       "    </tr>\n",
       "    <tr>\n",
       "      <th>4</th>\n",
       "      <td>69</td>\n",
       "      <td>1358</td>\n",
       "      <td>19</td>\n",
       "      <td>24</td>\n",
       "      <td>19.0</td>\n",
       "      <td>1.13</td>\n",
       "      <td>지역난방</td>\n",
       "      <td>(35.16660212799623, 129.18570786561207)</td>\n",
       "      <td>1</td>\n",
       "      <td>1996.11</td>\n",
       "    </tr>\n",
       "  </tbody>\n",
       "</table>\n",
       "</div>"
      ],
      "text/plain": [
       "   pk_apt_master  total_house_cnt  total_dong_cnt  max_jisang_floor  \\\n",
       "0             24              450               3                20   \n",
       "1             45              788              13                25   \n",
       "2             49              938              12                25   \n",
       "3             59              655              11                24   \n",
       "4             69             1358              19                24   \n",
       "\n",
       "   min_jisang_floor  total_jucha_rate heat_method  \\\n",
       "0               1.0              1.04        개별난방   \n",
       "1              18.0              1.06        지역난방   \n",
       "2               8.0              1.00        지역난방   \n",
       "3              16.0              1.00        지역난방   \n",
       "4              19.0              1.13        지역난방   \n",
       "\n",
       "                                    lat_lon  bldg_cd   gen_dt  \n",
       "0  (35.160214286423155, 129.02247008783408)        1  1992.12  \n",
       "1   (35.17814223752016, 129.18080133654178)        1  1998.11  \n",
       "2   (35.17511010074104, 129.17683514653672)        1  1997.09  \n",
       "3  (35.177678699197266, 129.16727161464672)        1  1997.05  \n",
       "4   (35.16660212799623, 129.18570786561207)        1  1996.11  "
      ]
     },
     "execution_count": 8,
     "metadata": {},
     "output_type": "execute_result"
    }
   ],
   "source": [
    "data['apt_master']['lat_lon'] = list(zip(data['apt_master']['lat'],data['apt_master']['lon']))\n",
    "data['apt_master'] = data['apt_master'][['pk_apt_master','total_house_cnt','total_dong_cnt','max_jisang_floor','min_jisang_floor','total_jucha_rate','heat_method','lat_lon','bldg_cd','gen_dt']]\n",
    "data['apt_master'].head()"
   ]
  },
  {
   "cell_type": "code",
   "execution_count": 9,
   "metadata": {},
   "outputs": [],
   "source": [
    "def min_eschool(lat_lon):\n",
    "    m = np.inf\n",
    "    nm = ''\n",
    "    n = len(data['busan_eschool'])\n",
    "    for i in range(n):\n",
    "        d = hs(lat_lon, data['busan_eschool'].iloc[i,1])\n",
    "        if d < m:\n",
    "            m = d\n",
    "            nm = data['busan_eschool'].iloc[i,0]\n",
    "    return nm, d "
   ]
  },
  {
   "cell_type": "code",
   "execution_count": 10,
   "metadata": {},
   "outputs": [
    {
     "name": "stdout",
     "output_type": "stream",
     "text": [
      "CPU times: user 14 s, sys: 55.1 ms, total: 14.1 s\n",
      "Wall time: 14.3 s\n"
     ]
    }
   ],
   "source": [
    "%time data['apt_master']['min_eschool'] = data['apt_master']['lat_lon'].apply(min_eschool)"
   ]
  },
  {
   "cell_type": "code",
   "execution_count": 11,
   "metadata": {},
   "outputs": [],
   "source": [
    "def min_subway(lat_lon):\n",
    "    m = np.inf\n",
    "    nm = ''\n",
    "    n = len(data['busan_subway'])\n",
    "    for i in range(n):\n",
    "        d = hs(lat_lon, data['busan_subway'].iloc[i,1])\n",
    "        if d < m:\n",
    "            m = d\n",
    "            nm = data['busan_subway'].iloc[i,0]\n",
    "    return nm, d "
   ]
  },
  {
   "cell_type": "code",
   "execution_count": 12,
   "metadata": {},
   "outputs": [
    {
     "name": "stdout",
     "output_type": "stream",
     "text": [
      "CPU times: user 5.54 s, sys: 15.2 ms, total: 5.56 s\n",
      "Wall time: 5.63 s\n"
     ]
    }
   ],
   "source": [
    "%time data['apt_master']['min_subway'] = data['apt_master']['lat_lon'].apply(min_subway)"
   ]
  },
  {
   "cell_type": "code",
   "execution_count": 13,
   "metadata": {},
   "outputs": [
    {
     "name": "stdout",
     "output_type": "stream",
     "text": [
      "<class 'pandas.core.frame.DataFrame'>\n",
      "RangeIndex: 2770 entries, 0 to 2769\n",
      "Data columns (total 12 columns):\n",
      "pk_apt_master       2770 non-null int64\n",
      "total_house_cnt     2770 non-null int64\n",
      "total_dong_cnt      2770 non-null int64\n",
      "max_jisang_floor    2770 non-null int64\n",
      "min_jisang_floor    2624 non-null float64\n",
      "total_jucha_rate    2769 non-null float64\n",
      "heat_method         2614 non-null object\n",
      "lat_lon             2770 non-null object\n",
      "bldg_cd             2770 non-null int64\n",
      "gen_dt              2770 non-null float64\n",
      "min_eschool         2770 non-null object\n",
      "min_subway          2770 non-null object\n",
      "dtypes: float64(3), int64(5), object(4)\n",
      "memory usage: 259.8+ KB\n"
     ]
    }
   ],
   "source": [
    "data['apt_master'].info()"
   ]
  },
  {
   "cell_type": "code",
   "execution_count": 14,
   "metadata": {},
   "outputs": [],
   "source": [
    "data['apt_master'] = pd.merge(data['apt_master'], \n",
    "              pd.DataFrame(data['apt_master']['min_eschool'].tolist(), \n",
    "                           columns=['nm_sch','dist_sch'],\n",
    "                           index = data['apt_master'].index),\n",
    "              left_index=True, \n",
    "              right_index=True,\n",
    "              how='left')\n",
    "data['apt_master'] = pd.merge(data['apt_master'], \n",
    "              pd.DataFrame(data['apt_master']['min_subway'].tolist(), \n",
    "                           columns=['nm_sub','dist_sub'],\n",
    "                           index = data['apt_master'].index),\n",
    "              left_index=True, \n",
    "              right_index=True,\n",
    "              how='left')"
   ]
  },
  {
   "cell_type": "code",
   "execution_count": 15,
   "metadata": {},
   "outputs": [],
   "source": [
    "data['apt_master'] = data['apt_master'][['pk_apt_master', 'total_house_cnt', 'total_dong_cnt', 'max_jisang_floor', \n",
    "                                         'min_jisang_floor', 'total_jucha_rate', 'heat_method','bldg_cd', 'gen_dt',\n",
    "                                         'nm_sch', 'dist_sch', 'nm_sub', 'dist_sub']]"
   ]
  },
  {
   "cell_type": "code",
   "execution_count": 16,
   "metadata": {},
   "outputs": [
    {
     "data": {
      "text/html": [
       "<div>\n",
       "<style scoped>\n",
       "    .dataframe tbody tr th:only-of-type {\n",
       "        vertical-align: middle;\n",
       "    }\n",
       "\n",
       "    .dataframe tbody tr th {\n",
       "        vertical-align: top;\n",
       "    }\n",
       "\n",
       "    .dataframe thead th {\n",
       "        text-align: right;\n",
       "    }\n",
       "</style>\n",
       "<table border=\"1\" class=\"dataframe\">\n",
       "  <thead>\n",
       "    <tr style=\"text-align: right;\">\n",
       "      <th></th>\n",
       "      <th>pk_apt_master</th>\n",
       "      <th>total_house_cnt</th>\n",
       "      <th>total_dong_cnt</th>\n",
       "      <th>max_jisang_floor</th>\n",
       "      <th>min_jisang_floor</th>\n",
       "      <th>total_jucha_rate</th>\n",
       "      <th>heat_method</th>\n",
       "      <th>bldg_cd</th>\n",
       "      <th>gen_dt</th>\n",
       "      <th>nm_sch</th>\n",
       "      <th>dist_sch</th>\n",
       "      <th>nm_sub</th>\n",
       "      <th>dist_sub</th>\n",
       "    </tr>\n",
       "  </thead>\n",
       "  <tbody>\n",
       "    <tr>\n",
       "      <th>0</th>\n",
       "      <td>24</td>\n",
       "      <td>450</td>\n",
       "      <td>3</td>\n",
       "      <td>20</td>\n",
       "      <td>1.0</td>\n",
       "      <td>1.04</td>\n",
       "      <td>개별난방</td>\n",
       "      <td>1</td>\n",
       "      <td>1992.12</td>\n",
       "      <td>개화초등학교</td>\n",
       "      <td>7.662802</td>\n",
       "      <td>동의대</td>\n",
       "      <td>16.087784</td>\n",
       "    </tr>\n",
       "    <tr>\n",
       "      <th>1</th>\n",
       "      <td>45</td>\n",
       "      <td>788</td>\n",
       "      <td>13</td>\n",
       "      <td>25</td>\n",
       "      <td>18.0</td>\n",
       "      <td>1.06</td>\n",
       "      <td>지역난방</td>\n",
       "      <td>1</td>\n",
       "      <td>1998.11</td>\n",
       "      <td>부흥초등학교</td>\n",
       "      <td>7.092371</td>\n",
       "      <td>장산</td>\n",
       "      <td>6.653143</td>\n",
       "    </tr>\n",
       "    <tr>\n",
       "      <th>2</th>\n",
       "      <td>49</td>\n",
       "      <td>938</td>\n",
       "      <td>12</td>\n",
       "      <td>25</td>\n",
       "      <td>8.0</td>\n",
       "      <td>1.00</td>\n",
       "      <td>지역난방</td>\n",
       "      <td>1</td>\n",
       "      <td>1997.09</td>\n",
       "      <td>부흥초등학교</td>\n",
       "      <td>6.647549</td>\n",
       "      <td>장산</td>\n",
       "      <td>6.956514</td>\n",
       "    </tr>\n",
       "    <tr>\n",
       "      <th>3</th>\n",
       "      <td>59</td>\n",
       "      <td>655</td>\n",
       "      <td>11</td>\n",
       "      <td>24</td>\n",
       "      <td>16.0</td>\n",
       "      <td>1.00</td>\n",
       "      <td>지역난방</td>\n",
       "      <td>1</td>\n",
       "      <td>1997.05</td>\n",
       "      <td>양운초등학교</td>\n",
       "      <td>5.918199</td>\n",
       "      <td>장산</td>\n",
       "      <td>6.672089</td>\n",
       "    </tr>\n",
       "    <tr>\n",
       "      <th>4</th>\n",
       "      <td>69</td>\n",
       "      <td>1358</td>\n",
       "      <td>19</td>\n",
       "      <td>24</td>\n",
       "      <td>19.0</td>\n",
       "      <td>1.13</td>\n",
       "      <td>지역난방</td>\n",
       "      <td>1</td>\n",
       "      <td>1996.11</td>\n",
       "      <td>좌산초등학교</td>\n",
       "      <td>7.241903</td>\n",
       "      <td>중동</td>\n",
       "      <td>7.985490</td>\n",
       "    </tr>\n",
       "  </tbody>\n",
       "</table>\n",
       "</div>"
      ],
      "text/plain": [
       "   pk_apt_master  total_house_cnt  total_dong_cnt  max_jisang_floor  \\\n",
       "0             24              450               3                20   \n",
       "1             45              788              13                25   \n",
       "2             49              938              12                25   \n",
       "3             59              655              11                24   \n",
       "4             69             1358              19                24   \n",
       "\n",
       "   min_jisang_floor  total_jucha_rate heat_method  bldg_cd   gen_dt  nm_sch  \\\n",
       "0               1.0              1.04        개별난방        1  1992.12  개화초등학교   \n",
       "1              18.0              1.06        지역난방        1  1998.11  부흥초등학교   \n",
       "2               8.0              1.00        지역난방        1  1997.09  부흥초등학교   \n",
       "3              16.0              1.00        지역난방        1  1997.05  양운초등학교   \n",
       "4              19.0              1.13        지역난방        1  1996.11  좌산초등학교   \n",
       "\n",
       "   dist_sch nm_sub   dist_sub  \n",
       "0  7.662802    동의대  16.087784  \n",
       "1  7.092371     장산   6.653143  \n",
       "2  6.647549     장산   6.956514  \n",
       "3  5.918199     장산   6.672089  \n",
       "4  7.241903     중동   7.985490  "
      ]
     },
     "execution_count": 16,
     "metadata": {},
     "output_type": "execute_result"
    }
   ],
   "source": [
    "data['apt_master'].head()"
   ]
  },
  {
   "cell_type": "markdown",
   "metadata": {},
   "source": [
    "- 'apt_trade'를 원하는 피쳐만 모으자"
   ]
  },
  {
   "cell_type": "code",
   "execution_count": 17,
   "metadata": {},
   "outputs": [],
   "source": [
    "data['apt_trade'] = data['apt_trade'][['pk_apt_trade','pk_apt_master','sigungu_cd','dong_cd','deal_ymd','private_extent','price','floor','pk_apt_detail']]"
   ]
  },
  {
   "cell_type": "markdown",
   "metadata": {},
   "source": [
    "- 'apt_trade'에 'pk_apt_master'키를 기준으로 'apt_master'정보를 합치자"
   ]
  },
  {
   "cell_type": "code",
   "execution_count": 18,
   "metadata": {},
   "outputs": [],
   "source": [
    "data['apt_trade'] = pd.merge(data['apt_trade'],data['apt_master'],\n",
    "                             how='left',on='pk_apt_master')"
   ]
  },
  {
   "cell_type": "code",
   "execution_count": 19,
   "metadata": {},
   "outputs": [
    {
     "name": "stdout",
     "output_type": "stream",
     "text": [
      "<class 'pandas.core.frame.DataFrame'>\n",
      "Int64Index: 248503 entries, 0 to 248502\n",
      "Data columns (total 21 columns):\n",
      "pk_apt_trade        248503 non-null int64\n",
      "pk_apt_master       248503 non-null int64\n",
      "sigungu_cd          248503 non-null int64\n",
      "dong_cd             248503 non-null int64\n",
      "deal_ymd            248503 non-null int64\n",
      "private_extent      248503 non-null float64\n",
      "price               248503 non-null int64\n",
      "floor               248503 non-null int64\n",
      "pk_apt_detail       248503 non-null int64\n",
      "total_house_cnt     248503 non-null int64\n",
      "total_dong_cnt      248503 non-null int64\n",
      "max_jisang_floor    248503 non-null int64\n",
      "min_jisang_floor    247717 non-null float64\n",
      "total_jucha_rate    248493 non-null float64\n",
      "heat_method         246297 non-null object\n",
      "bldg_cd             248503 non-null int64\n",
      "gen_dt              248503 non-null float64\n",
      "nm_sch              248503 non-null object\n",
      "dist_sch            248503 non-null float64\n",
      "nm_sub              248503 non-null object\n",
      "dist_sub            248503 non-null float64\n",
      "dtypes: float64(6), int64(12), object(3)\n",
      "memory usage: 41.7+ MB\n"
     ]
    }
   ],
   "source": [
    "data['apt_trade'].info()"
   ]
  },
  {
   "cell_type": "code",
   "execution_count": 20,
   "metadata": {},
   "outputs": [
    {
     "name": "stdout",
     "output_type": "stream",
     "text": [
      "min_jisang_floor열의 0.3% 데이터가 null\n",
      "\n",
      "total_jucha_rate열의 0.0% 데이터가 null\n",
      "\n",
      "heat_method열의 0.9% 데이터가 null\n",
      "\n"
     ]
    }
   ],
   "source": [
    "for col in data['apt_trade'].columns:\n",
    "    if sum(data['apt_trade'][col].isnull()):\n",
    "        print(str(col) +'열의 %.1f%% 데이터가 null\\n' % ( (sum(data['apt_trade'][col].isnull())/len(data['apt_trade'][col]))*100 ))"
   ]
  },
  {
   "cell_type": "markdown",
   "metadata": {},
   "source": [
    "- null 데이터가 있으면 삭제하자"
   ]
  },
  {
   "cell_type": "code",
   "execution_count": 21,
   "metadata": {},
   "outputs": [],
   "source": [
    "data['apt_trade'] = data['apt_trade'].dropna()"
   ]
  },
  {
   "cell_type": "code",
   "execution_count": 22,
   "metadata": {},
   "outputs": [],
   "source": [
    "for col in data['apt_trade'].columns:\n",
    "    if sum(data['apt_trade'][col].isnull()):\n",
    "        print(str(col) +'열의 %.1f%% 데이터가 null\\n' % ( (sum(data['apt_trade'][col].isnull())/len(data['apt_trade'][col]))*100 ))"
   ]
  },
  {
   "cell_type": "code",
   "execution_count": 23,
   "metadata": {},
   "outputs": [
    {
     "name": "stdout",
     "output_type": "stream",
     "text": [
      "<class 'pandas.core.frame.DataFrame'>\n",
      "Int64Index: 246111 entries, 0 to 248502\n",
      "Data columns (total 21 columns):\n",
      "pk_apt_trade        246111 non-null int64\n",
      "pk_apt_master       246111 non-null int64\n",
      "sigungu_cd          246111 non-null int64\n",
      "dong_cd             246111 non-null int64\n",
      "deal_ymd            246111 non-null int64\n",
      "private_extent      246111 non-null float64\n",
      "price               246111 non-null int64\n",
      "floor               246111 non-null int64\n",
      "pk_apt_detail       246111 non-null int64\n",
      "total_house_cnt     246111 non-null int64\n",
      "total_dong_cnt      246111 non-null int64\n",
      "max_jisang_floor    246111 non-null int64\n",
      "min_jisang_floor    246111 non-null float64\n",
      "total_jucha_rate    246111 non-null float64\n",
      "heat_method         246111 non-null object\n",
      "bldg_cd             246111 non-null int64\n",
      "gen_dt              246111 non-null float64\n",
      "nm_sch              246111 non-null object\n",
      "dist_sch            246111 non-null float64\n",
      "nm_sub              246111 non-null object\n",
      "dist_sub            246111 non-null float64\n",
      "dtypes: float64(6), int64(12), object(3)\n",
      "memory usage: 41.3+ MB\n"
     ]
    }
   ],
   "source": [
    "data['apt_trade'].info()"
   ]
  },
  {
   "cell_type": "markdown",
   "metadata": {},
   "source": [
    "- 데이터 타입을 정제하자"
   ]
  },
  {
   "cell_type": "code",
   "execution_count": 24,
   "metadata": {},
   "outputs": [],
   "source": [
    "data['apt_trade'].pk_apt_trade = data['apt_trade'].pk_apt_trade.astype(str)\n",
    "data['apt_trade'].pk_apt_master = data['apt_trade'].pk_apt_master.astype(str)\n",
    "data['apt_trade'].sigungu_cd = data['apt_trade'].sigungu_cd.astype(str)\n",
    "data['apt_trade'].dong_cd = data['apt_trade'].dong_cd.astype(str)\n",
    "data['apt_trade'].floor = data['apt_trade'].floor.astype(str)\n",
    "data['apt_trade'].pk_apt_detail = data['apt_trade'].pk_apt_detail.astype(str)\n",
    "data['apt_trade'].bldg_cd = data['apt_trade'].bldg_cd.astype(str)"
   ]
  },
  {
   "cell_type": "code",
   "execution_count": 25,
   "metadata": {},
   "outputs": [],
   "source": [
    "data['apt_trade']['price'] = data['apt_trade']['price'].astype(np.float)\n",
    "data['apt_trade']['min_jisang_floor'] = data['apt_trade']['min_jisang_floor'].astype(np.int)\n",
    "\n",
    "data['apt_trade'].gen_dt = data['apt_trade'].gen_dt.astype(str).str.replace('.','').astype(np.int)"
   ]
  },
  {
   "cell_type": "code",
   "execution_count": 26,
   "metadata": {},
   "outputs": [
    {
     "name": "stdout",
     "output_type": "stream",
     "text": [
      "<class 'pandas.core.frame.DataFrame'>\n",
      "Int64Index: 246111 entries, 0 to 248502\n",
      "Data columns (total 21 columns):\n",
      "pk_apt_trade        246111 non-null object\n",
      "pk_apt_master       246111 non-null object\n",
      "sigungu_cd          246111 non-null object\n",
      "dong_cd             246111 non-null object\n",
      "deal_ymd            246111 non-null int64\n",
      "private_extent      246111 non-null float64\n",
      "price               246111 non-null float64\n",
      "floor               246111 non-null object\n",
      "pk_apt_detail       246111 non-null object\n",
      "total_house_cnt     246111 non-null int64\n",
      "total_dong_cnt      246111 non-null int64\n",
      "max_jisang_floor    246111 non-null int64\n",
      "min_jisang_floor    246111 non-null int64\n",
      "total_jucha_rate    246111 non-null float64\n",
      "heat_method         246111 non-null object\n",
      "bldg_cd             246111 non-null object\n",
      "gen_dt              246111 non-null int64\n",
      "nm_sch              246111 non-null object\n",
      "dist_sch            246111 non-null float64\n",
      "nm_sub              246111 non-null object\n",
      "dist_sub            246111 non-null float64\n",
      "dtypes: float64(5), int64(6), object(10)\n",
      "memory usage: 41.3+ MB\n"
     ]
    }
   ],
   "source": [
    "data['apt_trade'].info()"
   ]
  },
  {
   "cell_type": "code",
   "execution_count": 39,
   "metadata": {},
   "outputs": [],
   "source": [
    "data['apt_trade'].to_csv('apt_trade_pre.csv', index=False)"
   ]
  },
  {
   "cell_type": "markdown",
   "metadata": {},
   "source": [
    "- 여기서부터 정리된 데이터를 **df**로 부르자\n",
    "- 각 피쳐의 값 갯수를 확인하자"
   ]
  },
  {
   "cell_type": "code",
   "execution_count": 44,
   "metadata": {},
   "outputs": [],
   "source": [
    "# df = pd.read_csv('apt_trade_pre.csv')\n",
    "df = data['apt_trade'].copy()"
   ]
  },
  {
   "cell_type": "code",
   "execution_count": 45,
   "metadata": {},
   "outputs": [
    {
     "name": "stdout",
     "output_type": "stream",
     "text": [
      "<class 'pandas.core.frame.DataFrame'>\n",
      "Int64Index: 246111 entries, 0 to 248502\n",
      "Data columns (total 21 columns):\n",
      "pk_apt_trade        246111 non-null object\n",
      "pk_apt_master       246111 non-null object\n",
      "sigungu_cd          246111 non-null object\n",
      "dong_cd             246111 non-null object\n",
      "deal_ymd            246111 non-null int64\n",
      "private_extent      246111 non-null float64\n",
      "price               246111 non-null float64\n",
      "floor               246111 non-null object\n",
      "pk_apt_detail       246111 non-null object\n",
      "total_house_cnt     246111 non-null int64\n",
      "total_dong_cnt      246111 non-null int64\n",
      "max_jisang_floor    246111 non-null int64\n",
      "min_jisang_floor    246111 non-null int64\n",
      "total_jucha_rate    246111 non-null float64\n",
      "heat_method         246111 non-null object\n",
      "bldg_cd             246111 non-null object\n",
      "gen_dt              246111 non-null int64\n",
      "nm_sch              246111 non-null object\n",
      "dist_sch            246111 non-null float64\n",
      "nm_sub              246111 non-null object\n",
      "dist_sub            246111 non-null float64\n",
      "dtypes: float64(5), int64(6), object(10)\n",
      "memory usage: 41.3+ MB\n"
     ]
    }
   ],
   "source": [
    "df.info()"
   ]
  },
  {
   "cell_type": "code",
   "execution_count": 46,
   "metadata": {},
   "outputs": [
    {
     "name": "stdout",
     "output_type": "stream",
     "text": [
      "======== pk_apt_trade ========\n",
      "246111\n",
      "======== pk_apt_master ========\n",
      "2047\n",
      "======== sigungu_cd ========\n",
      "16\n",
      "======== dong_cd ========\n",
      "43\n",
      "======== deal_ymd ========\n",
      "77\n",
      "======== private_extent ========\n",
      "4059\n",
      "======== price ========\n",
      "6275\n",
      "======== floor ========\n",
      "82\n",
      "======== pk_apt_detail ========\n",
      "6019\n",
      "======== total_house_cnt ========\n",
      "739\n",
      "======== total_dong_cnt ========\n",
      "35\n",
      "======== max_jisang_floor ========\n",
      "55\n",
      "======== min_jisang_floor ========\n",
      "44\n",
      "======== total_jucha_rate ========\n",
      "203\n",
      "======== heat_method ========\n",
      "3\n",
      "======== bldg_cd ========\n",
      "2\n",
      "======== gen_dt ========\n",
      "509\n",
      "======== nm_sch ========\n",
      "275\n",
      "======== dist_sch ========\n",
      "2047\n",
      "======== nm_sub ========\n",
      "62\n",
      "======== dist_sub ========\n",
      "2047\n"
     ]
    }
   ],
   "source": [
    "for col in df.columns:\n",
    "    print('======== ' + col + ' ========')\n",
    "    print(len(df[col].unique()))"
   ]
  },
  {
   "cell_type": "markdown",
   "metadata": {},
   "source": [
    "- get_dummies 함수를 이용해서 특정 피쳐를 원핫 인코딩 하자"
   ]
  },
  {
   "cell_type": "code",
   "execution_count": 47,
   "metadata": {},
   "outputs": [
    {
     "data": {
      "text/plain": [
       "Index(['pk_apt_trade', 'pk_apt_master', 'sigungu_cd', 'dong_cd', 'deal_ymd',\n",
       "       'private_extent', 'price', 'floor', 'pk_apt_detail', 'total_house_cnt',\n",
       "       'total_dong_cnt', 'max_jisang_floor', 'min_jisang_floor',\n",
       "       'total_jucha_rate', 'heat_method', 'bldg_cd', 'gen_dt', 'nm_sch',\n",
       "       'dist_sch', 'nm_sub', 'dist_sub'],\n",
       "      dtype='object')"
      ]
     },
     "execution_count": 47,
     "metadata": {},
     "output_type": "execute_result"
    }
   ],
   "source": [
    "df.columns"
   ]
  },
  {
   "cell_type": "code",
   "execution_count": 49,
   "metadata": {},
   "outputs": [
    {
     "name": "stdout",
     "output_type": "stream",
     "text": [
      "CPU times: user 4.3 s, sys: 332 ms, total: 4.63 s\n",
      "Wall time: 4.85 s\n"
     ]
    }
   ],
   "source": [
    "%time df_onehot = pd.get_dummies(df, columns = ['sigungu_cd', 'dong_cd', 'floor', 'heat_method', 'bldg_cd', 'gen_dt', 'nm_sch', 'nm_sub'])"
   ]
  },
  {
   "cell_type": "code",
   "execution_count": 51,
   "metadata": {},
   "outputs": [
    {
     "name": "stdout",
     "output_type": "stream",
     "text": [
      "CPU times: user 5min 12s, sys: 16.5 s, total: 5min 28s\n",
      "Wall time: 6min 29s\n"
     ]
    }
   ],
   "source": [
    "%time df_onehot.to_csv('apt_trade_onehot.csv', index=False)"
   ]
  },
  {
   "cell_type": "code",
   "execution_count": 53,
   "metadata": {},
   "outputs": [
    {
     "data": {
      "text/plain": [
       "(246111, 1005)"
      ]
     },
     "execution_count": 53,
     "metadata": {},
     "output_type": "execute_result"
    }
   ],
   "source": [
    "df_onehot.shape"
   ]
  }
 ],
 "metadata": {
  "kernelspec": {
   "display_name": "Python 3",
   "language": "python",
   "name": "python3"
  },
  "language_info": {
   "codemirror_mode": {
    "name": "ipython",
    "version": 3
   },
   "file_extension": ".py",
   "mimetype": "text/x-python",
   "name": "python",
   "nbconvert_exporter": "python",
   "pygments_lexer": "ipython3",
   "version": "3.5.6"
  }
 },
 "nbformat": 4,
 "nbformat_minor": 4
}
